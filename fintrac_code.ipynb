{
 "cells": [
  {
   "cell_type": "markdown",
   "metadata": {},
   "source": [
    "The Government of Canada: https://fintrac-canafe.canada.ca/intro-eng\n",
    "The Financial Transactions and Reports Analysis Centre of Canada (FINTRAC) is Canada's financial intelligence unit and anti-money laundering and anti-terrorist financing supervisor. Its mandate is to facilitate the detection, prevention and deterrence of money laundering and the financing of terrorist activities, while ensuring the protection of personal information under its control.\n",
    "\n",
    "The Government of Canada: https://fintrac-canafe.canada.ca/individuals-individus/rpt-eng#\n",
    "Electronic funds transfers (EFTs) - an electronic funds transfer report must be submitted to FINTRAC upon a transmission of instructions for the transfer of $10,000 or more out of, or into, Canada in a single transaction; or in two or more transactions totalling $10,000 or more made within 24 consecutive hours by or on behalf of the same person or entity, through any electronic, magnetic or optical device, telephone instrument or computer.\n",
    "\n",
    "SWIFT is a global cooperative of financial institutions that handle cross-border payments."
   ]
  },
  {
   "cell_type": "code",
   "execution_count": 342,
   "metadata": {},
   "outputs": [],
   "source": [
    "import pandas as pd\n",
    "import numpy as np\n",
    "from datetime import datetime"
   ]
  },
  {
   "cell_type": "markdown",
   "metadata": {},
   "source": [
    "------------------------------\n",
    "EDA & data cleaning: eft.csv\n",
    "Raw data for all EFT transactions from the admin system for the full audit period (“eft.csv”).\n",
    "------------------------------"
   ]
  },
  {
   "cell_type": "code",
   "execution_count": 343,
   "metadata": {},
   "outputs": [
    {
     "data": {
      "text/html": [
       "<div>\n",
       "<style scoped>\n",
       "    .dataframe tbody tr th:only-of-type {\n",
       "        vertical-align: middle;\n",
       "    }\n",
       "\n",
       "    .dataframe tbody tr th {\n",
       "        vertical-align: top;\n",
       "    }\n",
       "\n",
       "    .dataframe thead th {\n",
       "        text-align: right;\n",
       "    }\n",
       "</style>\n",
       "<table border=\"1\" class=\"dataframe\">\n",
       "  <thead>\n",
       "    <tr style=\"text-align: right;\">\n",
       "      <th></th>\n",
       "      <th>CIF</th>\n",
       "      <th>EFFECTIVE_DATE</th>\n",
       "      <th>TRANSACTION_AMOUNT</th>\n",
       "      <th>TRANSACTION_CODE</th>\n",
       "      <th>TRANSACTION_DECRIPTION</th>\n",
       "      <th>TIME_SEQ</th>\n",
       "    </tr>\n",
       "  </thead>\n",
       "  <tbody>\n",
       "    <tr>\n",
       "      <th>0</th>\n",
       "      <td>3300125</td>\n",
       "      <td>21-Jul-20</td>\n",
       "      <td>108880.95</td>\n",
       "      <td>CM</td>\n",
       "      <td>Deposit</td>\n",
       "      <td>8:44:26</td>\n",
       "    </tr>\n",
       "    <tr>\n",
       "      <th>1</th>\n",
       "      <td>2616067</td>\n",
       "      <td>21-Jul-20</td>\n",
       "      <td>-1200000.00</td>\n",
       "      <td>DM</td>\n",
       "      <td>Funds Wired to/from</td>\n",
       "      <td>10:09:05</td>\n",
       "    </tr>\n",
       "    <tr>\n",
       "      <th>2</th>\n",
       "      <td>3233547</td>\n",
       "      <td>21-Jul-20</td>\n",
       "      <td>-15000.00</td>\n",
       "      <td>DM</td>\n",
       "      <td>Funds Wired to/from</td>\n",
       "      <td>15:18:22</td>\n",
       "    </tr>\n",
       "    <tr>\n",
       "      <th>3</th>\n",
       "      <td>2372206</td>\n",
       "      <td>21-Jul-20</td>\n",
       "      <td>362452.27</td>\n",
       "      <td>CM</td>\n",
       "      <td>Funds Wired to/from</td>\n",
       "      <td>12:11:03</td>\n",
       "    </tr>\n",
       "    <tr>\n",
       "      <th>4</th>\n",
       "      <td>2274624</td>\n",
       "      <td>21-Jul-20</td>\n",
       "      <td>217794.43</td>\n",
       "      <td>CM</td>\n",
       "      <td>Funds Wired to/from</td>\n",
       "      <td>11:34:49</td>\n",
       "    </tr>\n",
       "  </tbody>\n",
       "</table>\n",
       "</div>"
      ],
      "text/plain": [
       "       CIF EFFECTIVE_DATE  TRANSACTION_AMOUNT TRANSACTION_CODE  \\\n",
       "0  3300125      21-Jul-20           108880.95               CM   \n",
       "1  2616067      21-Jul-20         -1200000.00               DM   \n",
       "2  3233547      21-Jul-20           -15000.00               DM   \n",
       "3  2372206      21-Jul-20           362452.27               CM   \n",
       "4  2274624      21-Jul-20           217794.43               CM   \n",
       "\n",
       "  TRANSACTION_DECRIPTION  TIME_SEQ  \n",
       "0                Deposit   8:44:26  \n",
       "1    Funds Wired to/from  10:09:05  \n",
       "2    Funds Wired to/from  15:18:22  \n",
       "3    Funds Wired to/from  12:11:03  \n",
       "4    Funds Wired to/from  11:34:49  "
      ]
     },
     "execution_count": 343,
     "metadata": {},
     "output_type": "execute_result"
    }
   ],
   "source": [
    "eft = pd.read_csv('eft.csv')\n",
    "eft.head()"
   ]
  },
  {
   "cell_type": "code",
   "execution_count": 344,
   "metadata": {},
   "outputs": [
    {
     "name": "stdout",
     "output_type": "stream",
     "text": [
      "<class 'pandas.core.frame.DataFrame'>\n",
      "RangeIndex: 137067 entries, 0 to 137066\n",
      "Data columns (total 6 columns):\n",
      " #   Column                  Non-Null Count   Dtype  \n",
      "---  ------                  --------------   -----  \n",
      " 0   CIF                     137067 non-null  int64  \n",
      " 1   EFFECTIVE_DATE          137067 non-null  object \n",
      " 2   TRANSACTION_AMOUNT      137067 non-null  float64\n",
      " 3   TRANSACTION_CODE        137067 non-null  object \n",
      " 4   TRANSACTION_DECRIPTION  137067 non-null  object \n",
      " 5   TIME_SEQ                137067 non-null  object \n",
      "dtypes: float64(1), int64(1), object(4)\n",
      "memory usage: 6.3+ MB\n"
     ]
    }
   ],
   "source": [
    "eft.info()\n",
    "# CIF: 7-digit number, unique identifier\n",
    "# EFFECTIVE_DATE: to convert from object into datetime dtype\n",
    "# TRANSACTION_AMOUNT: $\n",
    "# TRANSACTION_CODE: are there categories? \n",
    "# TRANSACTION_DECRIPTION: are there categories? \n",
    "# TIME_SEQ: to convert from object into datetime dtype"
   ]
  },
  {
   "cell_type": "code",
   "execution_count": 345,
   "metadata": {},
   "outputs": [
    {
     "data": {
      "text/plain": [
       "CIF                       0\n",
       "EFFECTIVE_DATE            0\n",
       "TRANSACTION_AMOUNT        0\n",
       "TRANSACTION_CODE          0\n",
       "TRANSACTION_DECRIPTION    0\n",
       "TIME_SEQ                  0\n",
       "dtype: int64"
      ]
     },
     "execution_count": 345,
     "metadata": {},
     "output_type": "execute_result"
    }
   ],
   "source": [
    "eft.isna().sum()"
   ]
  },
  {
   "cell_type": "code",
   "execution_count": 346,
   "metadata": {},
   "outputs": [
    {
     "data": {
      "text/plain": [
       "0   2020-07-21\n",
       "1   2020-07-21\n",
       "2   2020-07-21\n",
       "3   2020-07-21\n",
       "4   2020-07-21\n",
       "Name: EFFECTIVE_DATE, dtype: datetime64[ns]"
      ]
     },
     "execution_count": 346,
     "metadata": {},
     "output_type": "execute_result"
    }
   ],
   "source": [
    "# EFFECTIVE_DATE\n",
    "eft['EFFECTIVE_DATE'] = pd.to_datetime(eft['EFFECTIVE_DATE'], format='%d-%b-%y', errors='coerce') # '21-Jul-20': '%d-%b-%y' format \n",
    "eft['EFFECTIVE_DATE'].head()"
   ]
  },
  {
   "cell_type": "code",
   "execution_count": 347,
   "metadata": {},
   "outputs": [
    {
     "name": "stdout",
     "output_type": "stream",
     "text": [
      "eft transactions from 2019-10-01 00:00:00 to 2020-09-30 00:00:00\n"
     ]
    }
   ],
   "source": [
    "# What's the eft data timeframe/ full audit period? \n",
    "eft_start = eft['EFFECTIVE_DATE'].min()\n",
    "eft_finish = eft['EFFECTIVE_DATE'].max()\n",
    "print('eft transactions from', eft_start, 'to', eft_finish)\n",
    "# The eft transactions data is for 1 year period: from Oct 1, 2019 to Sept 30, 2020. "
   ]
  },
  {
   "cell_type": "code",
   "execution_count": 348,
   "metadata": {},
   "outputs": [
    {
     "data": {
      "text/plain": [
       "TRANSACTION_CODE\n",
       "DM    72564\n",
       "CM    64503\n",
       "Name: count, dtype: int64"
      ]
     },
     "execution_count": 348,
     "metadata": {},
     "output_type": "execute_result"
    }
   ],
   "source": [
    "# TRANSACTION_CODE\n",
    "eft['TRANSACTION_CODE'].value_counts()\n",
    "# TRANSACTION_CODE has 2 categories: DM and CM"
   ]
  },
  {
   "cell_type": "code",
   "execution_count": 349,
   "metadata": {},
   "outputs": [
    {
     "data": {
      "text/plain": [
       "TRANSACTION_DECRIPTION\n",
       "Funds Wired to/from              21382\n",
       "Returned Item                    12768\n",
       "Credit Memo                      10892\n",
       "Debit Memo                        9815\n",
       "Advance                           7177\n",
       "                                 ...  \n",
       "One Account Payment                  1\n",
       "REV One Account Payment              1\n",
       "REV Reverse Bank Confirmation        1\n",
       "Reverse Bank Confirmation            1\n",
       "Voucher Search                       1\n",
       "Name: count, Length: 128, dtype: int64"
      ]
     },
     "execution_count": 349,
     "metadata": {},
     "output_type": "execute_result"
    }
   ],
   "source": [
    "# TRANSACTION_DECRIPTION\n",
    "eft['TRANSACTION_DECRIPTION'].value_counts()\n",
    "# there are 128 different transaction descriptions"
   ]
  },
  {
   "cell_type": "code",
   "execution_count": 350,
   "metadata": {},
   "outputs": [
    {
     "data": {
      "text/plain": [
       "0"
      ]
     },
     "execution_count": 350,
     "metadata": {},
     "output_type": "execute_result"
    }
   ],
   "source": [
    "# let's check if SWIFT is in TRANSACTION_DECRIPTION\n",
    "eft['TRANSACTION_DECRIPTION'].str.contains(\"SWIFT\", case=False).sum()\n",
    "# swift is not in the description"
   ]
  },
  {
   "cell_type": "code",
   "execution_count": 351,
   "metadata": {},
   "outputs": [
    {
     "data": {
      "text/plain": [
       "array(['Deposit', 'Funds Wired to/from', 'REV LOC Payment',\n",
       "       'Rev. External Transfer', 'REV Elect. Funds Transfer',\n",
       "       'International Wire', 'Returned Item', 'Registration Cost',\n",
       "       'Discharge Administration Fee', 'Advanced',\n",
       "       'REV Misc Service Charge', 'Debit Memo', 'U.S. Wire Transfer',\n",
       "       'Card Adjustment', 'Rev. Bill Payment',\n",
       "       'Underwriting Fee - Select', 'Credit Memo', 'ABM Adjustment',\n",
       "       'Insurance + PST', 'REV Underwriting HST', 'Promotion', 'Advance',\n",
       "       'Adjustment', 'Misc Service Charge', 'Legal Fees',\n",
       "       'Underwriting HST', 'Elect. Funds Transfer', 'Processing Fees',\n",
       "       'REV Credit Memo', 'Account Holder Change Fee', 'LOC Payment',\n",
       "       'Invalid Cheque Fee', 'Rev. Deposit', 'Mobile Deposit Adjustment',\n",
       "       'REV Registration Cost', 'Interest Adjustment',\n",
       "       'Rev. Official Cheque', 'Underwriting Fee - M-One', 'REV Advance',\n",
       "       'REV Deposit', 'REV Funds Wired to/from', 'REV NSF Charge',\n",
       "       'Overdraft Fee', 'REV International Wire', 'REV ABM Adjustment',\n",
       "       'First Mortgage Payout', 'REV Discharge Administration Fee',\n",
       "       'REV Underwriting Fee - M-One', 'Write-off', 'REV Debit Memo',\n",
       "       'REV Underwriting Fee - Select', 'Wire Transfer Fee',\n",
       "       'US International Wire', 'LOC Fee', 'US Adjustment',\n",
       "       'REV Returned Item', 'Rev. Overdraft Charge',\n",
       "       'REV Invalid Cheque Fee', 'REV Interest Adjustment',\n",
       "       'REV Overdraft Fee', 'REV Rev. External Transfer',\n",
       "       'POS Adjustment', 'REV Promotion', 'Clear Elect. Funds Transfer',\n",
       "       'REV Rev. Official Cheque', 'Service Charges',\n",
       "       'International Wire BoC', 'REV Card Adjustment', 'REV Legal Fees',\n",
       "       'REV Interac e-Transfer Fee', 'REV Funds Wired to/from BoC',\n",
       "       'REV Account Holder Change Fee', 'REV Overdraft Interest',\n",
       "       'REV Adjustment', 'REV Advanced',\n",
       "       'REV Clear Elect. Funds Transfer', 'REV Transaction Fee',\n",
       "       'REV Rev. Bill Payment', 'Official Cheque Fee',\n",
       "       'Overdraft Interest', 'US Dollar Conversion Fee',\n",
       "       'Reverse Bank Confirmation', 'REV Reverse Bank Confirmation',\n",
       "       'REV Write-off', 'NSF Charge', 'REV LOC Fee', 'Courier Fee',\n",
       "       'REV Dormant Account Fee', 'REV U.S. Wire Transfer',\n",
       "       'Bank Confirmation', 'Funds Wired to/from BoC', 'REV Chq Order',\n",
       "       'Interest Deposit', 'REV Mobile Deposit Adjustment', 'Loan Fee',\n",
       "       'REV Rev. Deposit', 'REV One Account Payment',\n",
       "       'One Account Payment', 'REV Construction Draw 1',\n",
       "       'Construction Draw 1', 'REV Wire Transfer Fee', 'Stop Payment Fee',\n",
       "       'REV Official Cheque Fee', 'REV Promo Interest Deposit',\n",
       "       'REV Interest Deposit', 'Dormant Account Fee',\n",
       "       'REV Service Charges', 'REV Courier Fee', 'REV Stop Payment Fee',\n",
       "       'Telpay Invoice', 'REV US Adjustment', 'Chq Order',\n",
       "       'US Overdraft Interest', 'Rev. Deposit Cheque',\n",
       "       'REV Rev. Deposit Cheque', 'Error Correction',\n",
       "       'Interac e-Transfer Fee', 'REV Rev. Overdraft Charge',\n",
       "       'REV POS Adjustment', 'REV Insurance + PST',\n",
       "       'REV International Wire BoC', 'Transaction Fee',\n",
       "       'Refund of Legal Fees', 'Processing Fee', 'REV Telpay Invoice',\n",
       "       'Pre-authorized Dep.', 'Manulife One Reward', 'Voucher Search'],\n",
       "      dtype=object)"
      ]
     },
     "execution_count": 351,
     "metadata": {},
     "output_type": "execute_result"
    }
   ],
   "source": [
    "# SWIFT is a global cooperative of financial institutions that handle cross-border payments\n",
    "# since there no SWIFT indication in description, and no clear direction how to identify SWIFT, I'll do a manual look in order to identify international transactions \n",
    "# Note: in real life I would connect to a business unit and ask for clarification\n",
    "\n",
    "pd.unique(eft['TRANSACTION_DECRIPTION'])\n",
    "\n",
    "# The following transactions were idetified:\n",
    "# 'International Wire', 'US International Wire', 'International Wire BoC'\n",
    "\n",
    "# same transaction descriptions but reversed (REV) - so will not be included: 'REV International Wire', 'REV International Wire BoC'"
   ]
  },
  {
   "cell_type": "code",
   "execution_count": 352,
   "metadata": {},
   "outputs": [
    {
     "data": {
      "image/png": "[encoded data removed]",
      "text/plain": [
       "<Figure size 800x600 with 1 Axes>"
      ]
     },
     "metadata": {},
     "output_type": "display_data"
    }
   ],
   "source": [
    "# to have an idea what DM and CM are, let's see if there is a pattern between 'TRANSACTION_AMOUNT' and 'TRANSACTION_CODE'\n",
    "import matplotlib.pyplot as plt\n",
    "import seaborn as sns\n",
    "\n",
    "dm_trans = eft[eft['TRANSACTION_CODE'] == 'DM']['TRANSACTION_AMOUNT']\n",
    "cm_trans = eft[eft['TRANSACTION_CODE'] == 'CM']['TRANSACTION_AMOUNT']\n",
    "\n",
    "plt.figure(figsize=(8, 6))\n",
    "sns.boxplot(x='TRANSACTION_CODE', y='TRANSACTION_AMOUNT', data=eft)\n",
    "plt.xlabel('Transaction code')\n",
    "plt.ylabel('Transaction amount')\n",
    "plt.title('Transaction amounts by transaction code')\n",
    "yticks = [0, 10000000, 20000000, 30000000, 40000000, 50000000, 60000000, 70000000, 80000000, 90000000, 100000000]  \n",
    "plt.yticks(yticks, labels=[f'{int(val / 1000000)}M' for val in yticks])\n",
    "plt.show()\n",
    "\n",
    "# CM: mostly positive values - 'money in' ?\n",
    "# DM: mostly negative values - 'money out' ?\n",
    "# However, both CM and DM have the opposite values - might be reversed transactions.\n",
    "# All these concerns would be confirmed with a busines unit in real project.\n",
    "\n",
    "# since SWIFT (cross-border payments) can be both - money in and money out, I will look at both + and - amounts"
   ]
  },
  {
   "cell_type": "code",
   "execution_count": 353,
   "metadata": {},
   "outputs": [
    {
     "data": {
      "text/plain": [
       "0   1900-01-01 08:44:26\n",
       "1   1900-01-01 10:09:05\n",
       "2   1900-01-01 15:18:22\n",
       "3   1900-01-01 12:11:03\n",
       "4   1900-01-01 11:34:49\n",
       "Name: TIME_SEQ, dtype: datetime64[ns]"
      ]
     },
     "execution_count": 353,
     "metadata": {},
     "output_type": "execute_result"
    }
   ],
   "source": [
    "# TIME_SEQ\n",
    "eft['TIME_SEQ'] = pd.to_datetime(eft['TIME_SEQ'], format='%H:%M:%S', errors='coerce') # '15:18:22': '%H:%M:%S' format\n",
    "eft['TIME_SEQ'].head()\n",
    "# 1900-01-01 is defaut time, we'll get rid of it when we merge date and time of the transaction into one column "
   ]
  },
  {
   "cell_type": "code",
   "execution_count": 354,
   "metadata": {},
   "outputs": [
    {
     "data": {
      "text/plain": [
       "0   2020-07-21 08:44:26\n",
       "1   2020-07-21 10:09:05\n",
       "2   2020-07-21 15:18:22\n",
       "3   2020-07-21 12:11:03\n",
       "4   2020-07-21 11:34:49\n",
       "Name: TRANS_DATETIME, dtype: datetime64[ns]"
      ]
     },
     "execution_count": 354,
     "metadata": {},
     "output_type": "execute_result"
    }
   ],
   "source": [
    "#  merge EFFECTIVE_DATE and TIME_SEQ into one column TRANS_DATETIME\n",
    "eft['TRANS_DATETIME'] = eft['EFFECTIVE_DATE'].dt.strftime('%Y-%m-%d') + ' ' + eft['TIME_SEQ'].dt.strftime('%H:%M:%S')\n",
    "eft['TRANS_DATETIME'] = pd.to_datetime(eft['TRANS_DATETIME'],format=\"%Y-%m-%d %H:%M:%S\", errors='coerce')\n",
    "eft['TRANS_DATETIME'].head()"
   ]
  },
  {
   "cell_type": "markdown",
   "metadata": {},
   "source": [
    "------------------------------\n",
    "EDA & data cleaning: fintrac_reported.xlsx\n",
    "Transactions that Business reported to FINTRAC during the audit period (“fintrac_reported.xlsx”)\n",
    "------------------------------"
   ]
  },
  {
   "cell_type": "code",
   "execution_count": 355,
   "metadata": {},
   "outputs": [
    {
     "data": {
      "text/html": [
       "<div>\n",
       "<style scoped>\n",
       "    .dataframe tbody tr th:only-of-type {\n",
       "        vertical-align: middle;\n",
       "    }\n",
       "\n",
       "    .dataframe tbody tr th {\n",
       "        vertical-align: top;\n",
       "    }\n",
       "\n",
       "    .dataframe thead th {\n",
       "        text-align: right;\n",
       "    }\n",
       "</style>\n",
       "<table border=\"1\" class=\"dataframe\">\n",
       "  <thead>\n",
       "    <tr style=\"text-align: right;\">\n",
       "      <th></th>\n",
       "      <th>Report Ref</th>\n",
       "      <th>Filing Date</th>\n",
       "      <th>Report Type</th>\n",
       "      <th>Tran Date</th>\n",
       "      <th>Tran Time</th>\n",
       "      <th>Tran Amt</th>\n",
       "      <th>Tran Cur</th>\n",
       "      <th>Client ID</th>\n",
       "    </tr>\n",
       "  </thead>\n",
       "  <tbody>\n",
       "    <tr>\n",
       "      <th>0</th>\n",
       "      <td>EFTO2019080100001001</td>\n",
       "      <td>2019-08-01</td>\n",
       "      <td>EFTO</td>\n",
       "      <td>2019-07-30</td>\n",
       "      <td>153443</td>\n",
       "      <td>28000.0</td>\n",
       "      <td>CAD</td>\n",
       "      <td>2286141</td>\n",
       "    </tr>\n",
       "    <tr>\n",
       "      <th>1</th>\n",
       "      <td>EFTO2019080100001002</td>\n",
       "      <td>2019-08-01</td>\n",
       "      <td>EFTO</td>\n",
       "      <td>2019-07-30</td>\n",
       "      <td>153443</td>\n",
       "      <td>10000.0</td>\n",
       "      <td>CAD</td>\n",
       "      <td>2456977</td>\n",
       "    </tr>\n",
       "    <tr>\n",
       "      <th>2</th>\n",
       "      <td>EFTO2019080100001003</td>\n",
       "      <td>2019-08-01</td>\n",
       "      <td>EFTO</td>\n",
       "      <td>2019-07-31</td>\n",
       "      <td>132351</td>\n",
       "      <td>23690.0</td>\n",
       "      <td>USD</td>\n",
       "      <td>3182054</td>\n",
       "    </tr>\n",
       "    <tr>\n",
       "      <th>3</th>\n",
       "      <td>EFTO2019080200001001</td>\n",
       "      <td>2019-08-02</td>\n",
       "      <td>EFTO</td>\n",
       "      <td>2019-08-01</td>\n",
       "      <td>154452</td>\n",
       "      <td>20000.0</td>\n",
       "      <td>CAD</td>\n",
       "      <td>3193091</td>\n",
       "    </tr>\n",
       "    <tr>\n",
       "      <th>4</th>\n",
       "      <td>EFTO2019080600001001</td>\n",
       "      <td>2019-08-06</td>\n",
       "      <td>EFTO</td>\n",
       "      <td>2019-08-02</td>\n",
       "      <td>134746</td>\n",
       "      <td>33436.0</td>\n",
       "      <td>CAD</td>\n",
       "      <td>2911297</td>\n",
       "    </tr>\n",
       "    <tr>\n",
       "      <th>5</th>\n",
       "      <td>EFTO2019080600001002</td>\n",
       "      <td>2019-08-06</td>\n",
       "      <td>EFTO</td>\n",
       "      <td>2019-08-02</td>\n",
       "      <td>135350</td>\n",
       "      <td>22000.0</td>\n",
       "      <td>CAD</td>\n",
       "      <td>2621260</td>\n",
       "    </tr>\n",
       "    <tr>\n",
       "      <th>6</th>\n",
       "      <td>EFTI2019080600002001</td>\n",
       "      <td>2019-08-06</td>\n",
       "      <td>EFTI</td>\n",
       "      <td>2019-08-02</td>\n",
       "      <td>0</td>\n",
       "      <td>12314.0</td>\n",
       "      <td>CAD</td>\n",
       "      <td>2555646</td>\n",
       "    </tr>\n",
       "    <tr>\n",
       "      <th>7</th>\n",
       "      <td>EFTO2019080700001001</td>\n",
       "      <td>2019-08-07</td>\n",
       "      <td>EFTO</td>\n",
       "      <td>2019-08-01</td>\n",
       "      <td>154452</td>\n",
       "      <td>11453.0</td>\n",
       "      <td>CAD</td>\n",
       "      <td>2457710</td>\n",
       "    </tr>\n",
       "    <tr>\n",
       "      <th>8</th>\n",
       "      <td>EFTO2019080700001002</td>\n",
       "      <td>2019-08-07</td>\n",
       "      <td>EFTO</td>\n",
       "      <td>2019-08-06</td>\n",
       "      <td>154124</td>\n",
       "      <td>12000.0</td>\n",
       "      <td>CAD</td>\n",
       "      <td>2489392</td>\n",
       "    </tr>\n",
       "    <tr>\n",
       "      <th>9</th>\n",
       "      <td>EFTI2019080700002001</td>\n",
       "      <td>2019-08-07</td>\n",
       "      <td>EFTI</td>\n",
       "      <td>2019-08-06</td>\n",
       "      <td>0</td>\n",
       "      <td>11500.0</td>\n",
       "      <td>CAD</td>\n",
       "      <td>2429120</td>\n",
       "    </tr>\n",
       "    <tr>\n",
       "      <th>10</th>\n",
       "      <td>EFTI2019080800001001</td>\n",
       "      <td>2019-08-08</td>\n",
       "      <td>EFTI</td>\n",
       "      <td>2019-08-06</td>\n",
       "      <td>0</td>\n",
       "      <td>13000.0</td>\n",
       "      <td>CAD</td>\n",
       "      <td>2412762</td>\n",
       "    </tr>\n",
       "    <tr>\n",
       "      <th>11</th>\n",
       "      <td>EFTO2019081200001001</td>\n",
       "      <td>2019-08-12</td>\n",
       "      <td>EFTO</td>\n",
       "      <td>2019-08-08</td>\n",
       "      <td>135604</td>\n",
       "      <td>20198.0</td>\n",
       "      <td>CAD</td>\n",
       "      <td>2529565</td>\n",
       "    </tr>\n",
       "    <tr>\n",
       "      <th>12</th>\n",
       "      <td>EFTO2019081200001002</td>\n",
       "      <td>2019-08-12</td>\n",
       "      <td>EFTO</td>\n",
       "      <td>2019-08-07</td>\n",
       "      <td>135540</td>\n",
       "      <td>19001.0</td>\n",
       "      <td>CAD</td>\n",
       "      <td>2770685</td>\n",
       "    </tr>\n",
       "    <tr>\n",
       "      <th>13</th>\n",
       "      <td>EFTI2019081300001001</td>\n",
       "      <td>2019-08-13</td>\n",
       "      <td>EFTI</td>\n",
       "      <td>2019-08-08</td>\n",
       "      <td>0</td>\n",
       "      <td>202915.0</td>\n",
       "      <td>CAD</td>\n",
       "      <td>3169301</td>\n",
       "    </tr>\n",
       "    <tr>\n",
       "      <th>14</th>\n",
       "      <td>EFTO2019081400001001</td>\n",
       "      <td>2019-08-14</td>\n",
       "      <td>EFTO</td>\n",
       "      <td>2019-08-12</td>\n",
       "      <td>153951</td>\n",
       "      <td>12020.0</td>\n",
       "      <td>CAD</td>\n",
       "      <td>3054232</td>\n",
       "    </tr>\n",
       "    <tr>\n",
       "      <th>15</th>\n",
       "      <td>EFTO2019081400001002</td>\n",
       "      <td>2019-08-14</td>\n",
       "      <td>EFTO</td>\n",
       "      <td>2019-08-12</td>\n",
       "      <td>153951</td>\n",
       "      <td>12020.0</td>\n",
       "      <td>CAD</td>\n",
       "      <td>3054232</td>\n",
       "    </tr>\n",
       "    <tr>\n",
       "      <th>16</th>\n",
       "      <td>EFTO2019081400001003</td>\n",
       "      <td>2019-08-14</td>\n",
       "      <td>EFTO</td>\n",
       "      <td>2019-08-12</td>\n",
       "      <td>153951</td>\n",
       "      <td>12036.0</td>\n",
       "      <td>CAD</td>\n",
       "      <td>3054232</td>\n",
       "    </tr>\n",
       "    <tr>\n",
       "      <th>17</th>\n",
       "      <td>EFTO2019081400001004</td>\n",
       "      <td>2019-08-14</td>\n",
       "      <td>EFTO</td>\n",
       "      <td>2019-08-12</td>\n",
       "      <td>33951</td>\n",
       "      <td>36059.0</td>\n",
       "      <td>CAD</td>\n",
       "      <td>3054232</td>\n",
       "    </tr>\n",
       "    <tr>\n",
       "      <th>18</th>\n",
       "      <td>EFTO2019081400001005</td>\n",
       "      <td>2019-08-14</td>\n",
       "      <td>EFTO</td>\n",
       "      <td>2019-08-12</td>\n",
       "      <td>153951</td>\n",
       "      <td>36059.0</td>\n",
       "      <td>CAD</td>\n",
       "      <td>3054232</td>\n",
       "    </tr>\n",
       "    <tr>\n",
       "      <th>19</th>\n",
       "      <td>EFTO2019081500001001</td>\n",
       "      <td>2019-08-15</td>\n",
       "      <td>EFTO</td>\n",
       "      <td>2019-08-14</td>\n",
       "      <td>104054</td>\n",
       "      <td>157000.0</td>\n",
       "      <td>CAD</td>\n",
       "      <td>2507308</td>\n",
       "    </tr>\n",
       "  </tbody>\n",
       "</table>\n",
       "</div>"
      ],
      "text/plain": [
       "              Report Ref Filing Date Report Type   Tran Date  Tran Time  \\\n",
       "0   EFTO2019080100001001  2019-08-01        EFTO  2019-07-30     153443   \n",
       "1   EFTO2019080100001002  2019-08-01        EFTO  2019-07-30     153443   \n",
       "2   EFTO2019080100001003  2019-08-01        EFTO  2019-07-31     132351   \n",
       "3   EFTO2019080200001001  2019-08-02        EFTO  2019-08-01     154452   \n",
       "4   EFTO2019080600001001  2019-08-06        EFTO  2019-08-02     134746   \n",
       "5   EFTO2019080600001002  2019-08-06        EFTO  2019-08-02     135350   \n",
       "6   EFTI2019080600002001  2019-08-06        EFTI  2019-08-02          0   \n",
       "7   EFTO2019080700001001  2019-08-07        EFTO  2019-08-01     154452   \n",
       "8   EFTO2019080700001002  2019-08-07        EFTO  2019-08-06     154124   \n",
       "9   EFTI2019080700002001  2019-08-07        EFTI  2019-08-06          0   \n",
       "10  EFTI2019080800001001  2019-08-08        EFTI  2019-08-06          0   \n",
       "11  EFTO2019081200001001  2019-08-12        EFTO  2019-08-08     135604   \n",
       "12  EFTO2019081200001002  2019-08-12        EFTO  2019-08-07     135540   \n",
       "13  EFTI2019081300001001  2019-08-13        EFTI  2019-08-08          0   \n",
       "14  EFTO2019081400001001  2019-08-14        EFTO  2019-08-12     153951   \n",
       "15  EFTO2019081400001002  2019-08-14        EFTO  2019-08-12     153951   \n",
       "16  EFTO2019081400001003  2019-08-14        EFTO  2019-08-12     153951   \n",
       "17  EFTO2019081400001004  2019-08-14        EFTO  2019-08-12      33951   \n",
       "18  EFTO2019081400001005  2019-08-14        EFTO  2019-08-12     153951   \n",
       "19  EFTO2019081500001001  2019-08-15        EFTO  2019-08-14     104054   \n",
       "\n",
       "    Tran Amt Tran Cur  Client ID  \n",
       "0    28000.0      CAD    2286141  \n",
       "1    10000.0      CAD    2456977  \n",
       "2    23690.0      USD    3182054  \n",
       "3    20000.0      CAD    3193091  \n",
       "4    33436.0      CAD    2911297  \n",
       "5    22000.0      CAD    2621260  \n",
       "6    12314.0      CAD    2555646  \n",
       "7    11453.0      CAD    2457710  \n",
       "8    12000.0      CAD    2489392  \n",
       "9    11500.0      CAD    2429120  \n",
       "10   13000.0      CAD    2412762  \n",
       "11   20198.0      CAD    2529565  \n",
       "12   19001.0      CAD    2770685  \n",
       "13  202915.0      CAD    3169301  \n",
       "14   12020.0      CAD    3054232  \n",
       "15   12020.0      CAD    3054232  \n",
       "16   12036.0      CAD    3054232  \n",
       "17   36059.0      CAD    3054232  \n",
       "18   36059.0      CAD    3054232  \n",
       "19  157000.0      CAD    2507308  "
      ]
     },
     "execution_count": 355,
     "metadata": {},
     "output_type": "execute_result"
    }
   ],
   "source": [
    "fintrac = pd.read_excel('fintrac_reported.xlsx')\n",
    "fintrac.head(20)"
   ]
  },
  {
   "cell_type": "code",
   "execution_count": 356,
   "metadata": {},
   "outputs": [
    {
     "name": "stdout",
     "output_type": "stream",
     "text": [
      "<class 'pandas.core.frame.DataFrame'>\n",
      "RangeIndex: 867 entries, 0 to 866\n",
      "Data columns (total 8 columns):\n",
      " #   Column       Non-Null Count  Dtype  \n",
      "---  ------       --------------  -----  \n",
      " 0   Report Ref   867 non-null    object \n",
      " 1   Filing Date  867 non-null    object \n",
      " 2   Report Type  867 non-null    object \n",
      " 3   Tran Date    867 non-null    object \n",
      " 4   Tran Time    867 non-null    int64  \n",
      " 5   Tran Amt     867 non-null    float64\n",
      " 6   Tran Cur     867 non-null    object \n",
      " 7   Client ID    867 non-null    int64  \n",
      "dtypes: float64(1), int64(2), object(5)\n",
      "memory usage: 54.3+ KB\n"
     ]
    }
   ],
   "source": [
    "fintrac.info()\n",
    "# Report Ref: EFT unique identifier\n",
    "# Filing Date: to convert from object into datetime dtype \n",
    "# Report Type: are there categories?\n",
    "# Tran Date: to convert from object into datetime dtype \n",
    "# Tran Time: to convert from int64 into datetime dtype. Some of the values are 0 and need to be 00:00:00 \n",
    "# Tran Amt: $ \n",
    "# Tran Cur: are there categories?\n",
    "# Client ID: 7-digit number, unique identifier. I assume that it's same as CIF in eft data "
   ]
  },
  {
   "cell_type": "code",
   "execution_count": 357,
   "metadata": {},
   "outputs": [
    {
     "data": {
      "text/plain": [
       "Report Ref     0\n",
       "Filing Date    0\n",
       "Report Type    0\n",
       "Tran Date      0\n",
       "Tran Time      0\n",
       "Tran Amt       0\n",
       "Tran Cur       0\n",
       "Client ID      0\n",
       "dtype: int64"
      ]
     },
     "execution_count": 357,
     "metadata": {},
     "output_type": "execute_result"
    }
   ],
   "source": [
    "# check for missing values \n",
    "fintrac.isna().sum()"
   ]
  },
  {
   "cell_type": "code",
   "execution_count": 358,
   "metadata": {},
   "outputs": [
    {
     "name": "stdout",
     "output_type": "stream",
     "text": [
      "False    867\n",
      "Name: count, dtype: int64\n"
     ]
    }
   ],
   "source": [
    "# check for duplicates \n",
    "dupl = fintrac.duplicated()\n",
    "print(dupl.value_counts())"
   ]
  },
  {
   "cell_type": "code",
   "execution_count": 359,
   "metadata": {},
   "outputs": [
    {
     "data": {
      "text/plain": [
       "0   2019-08-01\n",
       "1   2019-08-01\n",
       "2   2019-08-01\n",
       "3   2019-08-02\n",
       "4   2019-08-06\n",
       "Name: Filing Date, dtype: datetime64[ns]"
      ]
     },
     "execution_count": 359,
     "metadata": {},
     "output_type": "execute_result"
    }
   ],
   "source": [
    "# Filing Date \n",
    "fintrac['Filing Date'] = pd.to_datetime(fintrac['Filing Date'], format='%Y-%m-%d', errors='coerce') # '2019-08-01': '%Y-%m-%d' format \n",
    "fintrac['Filing Date'].head()"
   ]
  },
  {
   "cell_type": "code",
   "execution_count": 360,
   "metadata": {},
   "outputs": [
    {
     "data": {
      "text/plain": [
       "Report Type\n",
       "EFTO    469\n",
       "EFTI    398\n",
       "Name: count, dtype: int64"
      ]
     },
     "execution_count": 360,
     "metadata": {},
     "output_type": "execute_result"
    }
   ],
   "source": [
    "# Report Type\n",
    "fintrac['Report Type'].value_counts()"
   ]
  },
  {
   "cell_type": "code",
   "execution_count": 361,
   "metadata": {},
   "outputs": [
    {
     "data": {
      "text/plain": [
       "0   2019-07-30\n",
       "1   2019-07-30\n",
       "2   2019-07-31\n",
       "3   2019-08-01\n",
       "4   2019-08-02\n",
       "Name: Tran Date, dtype: datetime64[ns]"
      ]
     },
     "execution_count": 361,
     "metadata": {},
     "output_type": "execute_result"
    }
   ],
   "source": [
    "# Tran Date\n",
    "fintrac['Tran Date'] = pd.to_datetime(fintrac['Tran Date'], format='%Y-%m-%d', errors='coerce') # '2019-07-30': '%Y-%m-%d' format \n",
    "fintrac['Tran Date'].head()"
   ]
  },
  {
   "cell_type": "code",
   "execution_count": 362,
   "metadata": {},
   "outputs": [
    {
     "name": "stdout",
     "output_type": "stream",
     "text": [
      "fintrac transactions from 2019-07-30 00:00:00 to 2020-09-25 00:00:00\n"
     ]
    }
   ],
   "source": [
    "# What's the timeframe for Tran Time in fintraac df?\n",
    "fintrac_start = fintrac['Tran Date'].min()\n",
    "fintrac_finish = fintrac['Tran Date'].max()\n",
    "print('fintrac transactions from', fintrac_start, 'to', fintrac_finish)\n",
    "\n",
    "# fintrac transactions are from July 30, 2019 to Sept 25, 2020.\n",
    "# There is a discrepancy with the eft transactions data which is from Oct 1, 2019 to Sept 30, 2020, we need to keep it in mind. "
   ]
  },
  {
   "cell_type": "code",
   "execution_count": 363,
   "metadata": {},
   "outputs": [
    {
     "data": {
      "text/plain": [
       "0   1900-01-01 15:34:43\n",
       "1   1900-01-01 15:34:43\n",
       "2   1900-01-01 13:23:51\n",
       "3   1900-01-01 15:44:52\n",
       "4   1900-01-01 13:47:46\n",
       "5   1900-01-01 13:53:50\n",
       "6   1900-01-01 00:00:00\n",
       "7   1900-01-01 15:44:52\n",
       "8   1900-01-01 15:41:24\n",
       "9   1900-01-01 00:00:00\n",
       "Name: Tran Time, dtype: datetime64[ns]"
      ]
     },
     "execution_count": 363,
     "metadata": {},
     "output_type": "execute_result"
    }
   ],
   "source": [
    "# Tran Time\n",
    "# replace 0 values with '000000' before conversion\n",
    "fintrac['Tran Time'] = fintrac['Tran Time'].replace(0, '000000')\n",
    "fintrac['Tran Time'] = pd.to_datetime(fintrac['Tran Time'], format='%H%M%S', errors='coerce') # '153443': '%H%M%S' format\n",
    "fintrac['Tran Time'].head(10)"
   ]
  },
  {
   "cell_type": "code",
   "execution_count": 364,
   "metadata": {},
   "outputs": [
    {
     "data": {
      "text/plain": [
       "0   2019-07-30 15:34:43\n",
       "1   2019-07-30 15:34:43\n",
       "2   2019-07-31 13:23:51\n",
       "3   2019-08-01 15:44:52\n",
       "4   2019-08-02 13:47:46\n",
       "Name: Tran Date Time, dtype: datetime64[ns]"
      ]
     },
     "execution_count": 364,
     "metadata": {},
     "output_type": "execute_result"
    }
   ],
   "source": [
    "# merge 'Tran Date' and 'Tran Time' into 'Tran Date Time'\n",
    "fintrac['Tran Date Time'] = fintrac['Tran Date'].dt.strftime('%Y-%m-%d') + ' ' + fintrac['Tran Time'].dt.strftime('%H%M%S')\n",
    "fintrac['Tran Date Time'] = pd.to_datetime(fintrac['Tran Date Time'],format=\"%Y-%m-%d %H%M%S\", errors='coerce')\n",
    "fintrac['Tran Date Time'].head()"
   ]
  },
  {
   "cell_type": "code",
   "execution_count": 365,
   "metadata": {},
   "outputs": [
    {
     "data": {
      "text/plain": [
       "Tran Cur\n",
       "CAD    787\n",
       "USD     80\n",
       "Name: count, dtype: int64"
      ]
     },
     "execution_count": 365,
     "metadata": {},
     "output_type": "execute_result"
    }
   ],
   "source": [
    "# Tran Cur\n",
    "fintrac['Tran Cur'].value_counts()"
   ]
  },
  {
   "cell_type": "code",
   "execution_count": 366,
   "metadata": {},
   "outputs": [
    {
     "data": {
      "text/html": [
       "<div>\n",
       "<style scoped>\n",
       "    .dataframe tbody tr th:only-of-type {\n",
       "        vertical-align: middle;\n",
       "    }\n",
       "\n",
       "    .dataframe tbody tr th {\n",
       "        vertical-align: top;\n",
       "    }\n",
       "\n",
       "    .dataframe thead th {\n",
       "        text-align: right;\n",
       "    }\n",
       "</style>\n",
       "<table border=\"1\" class=\"dataframe\">\n",
       "  <thead>\n",
       "    <tr style=\"text-align: right;\">\n",
       "      <th></th>\n",
       "      <th>Report Ref</th>\n",
       "      <th>Filing Date</th>\n",
       "      <th>Report Type</th>\n",
       "      <th>Tran Date</th>\n",
       "      <th>Tran Time</th>\n",
       "      <th>Tran Amt</th>\n",
       "      <th>Tran Cur</th>\n",
       "      <th>Client ID</th>\n",
       "      <th>Tran Date Time</th>\n",
       "    </tr>\n",
       "  </thead>\n",
       "  <tbody>\n",
       "    <tr>\n",
       "      <th>0</th>\n",
       "      <td>EFTO2019080100001001</td>\n",
       "      <td>2019-08-01</td>\n",
       "      <td>EFTO</td>\n",
       "      <td>2019-07-30</td>\n",
       "      <td>1900-01-01 15:34:43</td>\n",
       "      <td>28000.0</td>\n",
       "      <td>CAD</td>\n",
       "      <td>2286141</td>\n",
       "      <td>2019-07-30 15:34:43</td>\n",
       "    </tr>\n",
       "    <tr>\n",
       "      <th>1</th>\n",
       "      <td>EFTO2019080100001002</td>\n",
       "      <td>2019-08-01</td>\n",
       "      <td>EFTO</td>\n",
       "      <td>2019-07-30</td>\n",
       "      <td>1900-01-01 15:34:43</td>\n",
       "      <td>10000.0</td>\n",
       "      <td>CAD</td>\n",
       "      <td>2456977</td>\n",
       "      <td>2019-07-30 15:34:43</td>\n",
       "    </tr>\n",
       "    <tr>\n",
       "      <th>2</th>\n",
       "      <td>EFTO2019080100001003</td>\n",
       "      <td>2019-08-01</td>\n",
       "      <td>EFTO</td>\n",
       "      <td>2019-07-31</td>\n",
       "      <td>1900-01-01 13:23:51</td>\n",
       "      <td>23690.0</td>\n",
       "      <td>USD</td>\n",
       "      <td>3182054</td>\n",
       "      <td>2019-07-31 13:23:51</td>\n",
       "    </tr>\n",
       "    <tr>\n",
       "      <th>3</th>\n",
       "      <td>EFTO2019080200001001</td>\n",
       "      <td>2019-08-02</td>\n",
       "      <td>EFTO</td>\n",
       "      <td>2019-08-01</td>\n",
       "      <td>1900-01-01 15:44:52</td>\n",
       "      <td>20000.0</td>\n",
       "      <td>CAD</td>\n",
       "      <td>3193091</td>\n",
       "      <td>2019-08-01 15:44:52</td>\n",
       "    </tr>\n",
       "    <tr>\n",
       "      <th>4</th>\n",
       "      <td>EFTO2019080600001001</td>\n",
       "      <td>2019-08-06</td>\n",
       "      <td>EFTO</td>\n",
       "      <td>2019-08-02</td>\n",
       "      <td>1900-01-01 13:47:46</td>\n",
       "      <td>33436.0</td>\n",
       "      <td>CAD</td>\n",
       "      <td>2911297</td>\n",
       "      <td>2019-08-02 13:47:46</td>\n",
       "    </tr>\n",
       "    <tr>\n",
       "      <th>5</th>\n",
       "      <td>EFTO2019080600001002</td>\n",
       "      <td>2019-08-06</td>\n",
       "      <td>EFTO</td>\n",
       "      <td>2019-08-02</td>\n",
       "      <td>1900-01-01 13:53:50</td>\n",
       "      <td>22000.0</td>\n",
       "      <td>CAD</td>\n",
       "      <td>2621260</td>\n",
       "      <td>2019-08-02 13:53:50</td>\n",
       "    </tr>\n",
       "    <tr>\n",
       "      <th>6</th>\n",
       "      <td>EFTI2019080600002001</td>\n",
       "      <td>2019-08-06</td>\n",
       "      <td>EFTI</td>\n",
       "      <td>2019-08-02</td>\n",
       "      <td>1900-01-01 00:00:00</td>\n",
       "      <td>12314.0</td>\n",
       "      <td>CAD</td>\n",
       "      <td>2555646</td>\n",
       "      <td>2019-08-02 00:00:00</td>\n",
       "    </tr>\n",
       "    <tr>\n",
       "      <th>7</th>\n",
       "      <td>EFTO2019080700001001</td>\n",
       "      <td>2019-08-07</td>\n",
       "      <td>EFTO</td>\n",
       "      <td>2019-08-01</td>\n",
       "      <td>1900-01-01 15:44:52</td>\n",
       "      <td>11453.0</td>\n",
       "      <td>CAD</td>\n",
       "      <td>2457710</td>\n",
       "      <td>2019-08-01 15:44:52</td>\n",
       "    </tr>\n",
       "    <tr>\n",
       "      <th>8</th>\n",
       "      <td>EFTO2019080700001002</td>\n",
       "      <td>2019-08-07</td>\n",
       "      <td>EFTO</td>\n",
       "      <td>2019-08-06</td>\n",
       "      <td>1900-01-01 15:41:24</td>\n",
       "      <td>12000.0</td>\n",
       "      <td>CAD</td>\n",
       "      <td>2489392</td>\n",
       "      <td>2019-08-06 15:41:24</td>\n",
       "    </tr>\n",
       "    <tr>\n",
       "      <th>9</th>\n",
       "      <td>EFTI2019080700002001</td>\n",
       "      <td>2019-08-07</td>\n",
       "      <td>EFTI</td>\n",
       "      <td>2019-08-06</td>\n",
       "      <td>1900-01-01 00:00:00</td>\n",
       "      <td>11500.0</td>\n",
       "      <td>CAD</td>\n",
       "      <td>2429120</td>\n",
       "      <td>2019-08-06 00:00:00</td>\n",
       "    </tr>\n",
       "  </tbody>\n",
       "</table>\n",
       "</div>"
      ],
      "text/plain": [
       "             Report Ref Filing Date Report Type  Tran Date  \\\n",
       "0  EFTO2019080100001001  2019-08-01        EFTO 2019-07-30   \n",
       "1  EFTO2019080100001002  2019-08-01        EFTO 2019-07-30   \n",
       "2  EFTO2019080100001003  2019-08-01        EFTO 2019-07-31   \n",
       "3  EFTO2019080200001001  2019-08-02        EFTO 2019-08-01   \n",
       "4  EFTO2019080600001001  2019-08-06        EFTO 2019-08-02   \n",
       "5  EFTO2019080600001002  2019-08-06        EFTO 2019-08-02   \n",
       "6  EFTI2019080600002001  2019-08-06        EFTI 2019-08-02   \n",
       "7  EFTO2019080700001001  2019-08-07        EFTO 2019-08-01   \n",
       "8  EFTO2019080700001002  2019-08-07        EFTO 2019-08-06   \n",
       "9  EFTI2019080700002001  2019-08-07        EFTI 2019-08-06   \n",
       "\n",
       "            Tran Time  Tran Amt Tran Cur  Client ID      Tran Date Time  \n",
       "0 1900-01-01 15:34:43   28000.0      CAD    2286141 2019-07-30 15:34:43  \n",
       "1 1900-01-01 15:34:43   10000.0      CAD    2456977 2019-07-30 15:34:43  \n",
       "2 1900-01-01 13:23:51   23690.0      USD    3182054 2019-07-31 13:23:51  \n",
       "3 1900-01-01 15:44:52   20000.0      CAD    3193091 2019-08-01 15:44:52  \n",
       "4 1900-01-01 13:47:46   33436.0      CAD    2911297 2019-08-02 13:47:46  \n",
       "5 1900-01-01 13:53:50   22000.0      CAD    2621260 2019-08-02 13:53:50  \n",
       "6 1900-01-01 00:00:00   12314.0      CAD    2555646 2019-08-02 00:00:00  \n",
       "7 1900-01-01 15:44:52   11453.0      CAD    2457710 2019-08-01 15:44:52  \n",
       "8 1900-01-01 15:41:24   12000.0      CAD    2489392 2019-08-06 15:41:24  \n",
       "9 1900-01-01 00:00:00   11500.0      CAD    2429120 2019-08-06 00:00:00  "
      ]
     },
     "execution_count": 366,
     "metadata": {},
     "output_type": "execute_result"
    }
   ],
   "source": [
    "fintrac.head(10)"
   ]
  },
  {
   "cell_type": "code",
   "execution_count": 367,
   "metadata": {},
   "outputs": [
    {
     "data": {
      "text/plain": [
       "Report Ref        0\n",
       "Filing Date       0\n",
       "Report Type       0\n",
       "Tran Date         0\n",
       "Tran Time         0\n",
       "Tran Amt          0\n",
       "Tran Cur          0\n",
       "Client ID         0\n",
       "Tran Date Time    0\n",
       "dtype: int64"
      ]
     },
     "execution_count": 367,
     "metadata": {},
     "output_type": "execute_result"
    }
   ],
   "source": [
    "fintrac.isna().sum()"
   ]
  },
  {
   "cell_type": "markdown",
   "metadata": {},
   "source": [
    "Since FINTRAC is a Canadian institution, the currency needs to be in CAD. \n",
    "Given that the conversion rate fluctuated over time from July 30, 2019 to Sept 25, 2020, \n",
    "I got the historical exchange rate data for the audit time period from USD to CAD from https://www.bankofcanada.ca/rates/exchange/daily-exchange-rates/"
   ]
  },
  {
   "cell_type": "code",
   "execution_count": 368,
   "metadata": {},
   "outputs": [
    {
     "name": "stdout",
     "output_type": "stream",
     "text": [
      "           Date  Exchange Rate\n",
      "0    2019-07-30         1.3168\n",
      "1    2019-07-31         1.3148\n",
      "2    2019-08-01         1.3217\n",
      "3    2019-08-02         1.3225\n",
      "4    2019-08-06         1.3253\n",
      "..          ...            ...\n",
      "286  2020-09-21         1.3293\n",
      "287  2020-09-22         1.3310\n",
      "288  2020-09-23         1.3358\n",
      "289  2020-09-24         1.3374\n",
      "290  2020-09-25         1.3396\n",
      "\n",
      "[291 rows x 2 columns]\n"
     ]
    }
   ],
   "source": [
    "usd_cad = pd.read_csv('BOC_daily_exchange_rates.csv')\n",
    "print(usd_cad)\n",
    "# Note: the exchage rates on the weekends are missing since the markets are closed. "
   ]
  },
  {
   "cell_type": "code",
   "execution_count": 369,
   "metadata": {},
   "outputs": [
    {
     "data": {
      "text/plain": [
       "0   2019-07-30\n",
       "1   2019-07-31\n",
       "2   2019-08-01\n",
       "3   2019-08-02\n",
       "4   2019-08-06\n",
       "Name: Date, dtype: datetime64[ns]"
      ]
     },
     "execution_count": 369,
     "metadata": {},
     "output_type": "execute_result"
    }
   ],
   "source": [
    "# convert Date into datetime dtype \n",
    "usd_cad['Date'] = pd.to_datetime(usd_cad['Date'], format='%Y-%m-%d', errors='coerce') # '%Y-%m-%d' format \n",
    "usd_cad['Date'].head()"
   ]
  },
  {
   "cell_type": "code",
   "execution_count": 370,
   "metadata": {},
   "outputs": [
    {
     "name": "stdout",
     "output_type": "stream",
     "text": [
      "          date\n",
      "0   2019-07-30\n",
      "1   2019-07-31\n",
      "2   2019-08-01\n",
      "3   2019-08-02\n",
      "4   2019-08-03\n",
      "..         ...\n",
      "419 2020-09-21\n",
      "420 2020-09-22\n",
      "421 2020-09-23\n",
      "422 2020-09-24\n",
      "423 2020-09-25\n",
      "\n",
      "[424 rows x 1 columns]\n"
     ]
    }
   ],
   "source": [
    "# to add weekends and exchange rate for the weekend , I'll do the following steps:\n",
    "# 1. create a calendar_dates table for dates from 2019-08-30 to 2020-09-25\n",
    "# 2. merge the calendar_dates table with usa_cad on left join\n",
    "# 3. fill in the missing exchange rate with previous date exchange rate\n",
    "\n",
    "# Note: in real life different banks have different policies in place that specify the exchange rate on the weeekends, \n",
    "# the rule of thumb is to sell the currency on a higher price than the last rate on the time when the market closed to mitigate the risks,\n",
    "# but since I don't have any guideance, I'll use the last known rate\n",
    "\n",
    "# 1. create a calendar_dates table\n",
    "def create_calendar_dates(start_date='2019-07-30', end_date='2020-09-25'):\n",
    "    start_date = pd.to_datetime(start_date)\n",
    "    end_date = pd.to_datetime(end_date)\n",
    "    date_range = pd.date_range(start=start_date, end=end_date)\n",
    "    calendar_dates = pd.DataFrame({'date': date_range})\n",
    "    return calendar_dates\n",
    "\n",
    "calendar_dates = create_calendar_dates()\n",
    "print(calendar_dates)"
   ]
  },
  {
   "cell_type": "code",
   "execution_count": 371,
   "metadata": {},
   "outputs": [
    {
     "name": "stdout",
     "output_type": "stream",
     "text": [
      "          date       Date  Exchange Rate\n",
      "0   2019-07-30 2019-07-30         1.3168\n",
      "1   2019-07-31 2019-07-31         1.3148\n",
      "2   2019-08-01 2019-08-01         1.3217\n",
      "3   2019-08-02 2019-08-02         1.3225\n",
      "4   2019-08-03        NaT            NaN\n",
      "..         ...        ...            ...\n",
      "419 2020-09-21 2020-09-21         1.3293\n",
      "420 2020-09-22 2020-09-22         1.3310\n",
      "421 2020-09-23 2020-09-23         1.3358\n",
      "422 2020-09-24 2020-09-24         1.3374\n",
      "423 2020-09-25 2020-09-25         1.3396\n",
      "\n",
      "[424 rows x 3 columns]\n"
     ]
    }
   ],
   "source": [
    "# 2. merge tables \n",
    "usd_cad = calendar_dates.merge(usd_cad, how='left', left_on='date', right_on='Date')\n",
    "print(usd_cad)"
   ]
  },
  {
   "cell_type": "code",
   "execution_count": 372,
   "metadata": {},
   "outputs": [
    {
     "name": "stdout",
     "output_type": "stream",
     "text": [
      "          date       Date  Exchange Rate\n",
      "0   2019-07-30 2019-07-30         1.3168\n",
      "1   2019-07-31 2019-07-31         1.3148\n",
      "2   2019-08-01 2019-08-01         1.3217\n",
      "3   2019-08-02 2019-08-02         1.3225\n",
      "4   2019-08-03        NaT         1.3225\n",
      "..         ...        ...            ...\n",
      "419 2020-09-21 2020-09-21         1.3293\n",
      "420 2020-09-22 2020-09-22         1.3310\n",
      "421 2020-09-23 2020-09-23         1.3358\n",
      "422 2020-09-24 2020-09-24         1.3374\n",
      "423 2020-09-25 2020-09-25         1.3396\n",
      "\n",
      "[424 rows x 3 columns]\n"
     ]
    },
    {
     "name": "stderr",
     "output_type": "stream",
     "text": [
      "/var/folders/w4/f8rg8p610t3bch11xq78chv80000gn/T/ipykernel_60229/4259304266.py:4: FutureWarning: A value is trying to be set on a copy of a DataFrame or Series through chained assignment using an inplace method.\n",
      "The behavior will change in pandas 3.0. This inplace method will never work because the intermediate object on which we are setting values always behaves as a copy.\n",
      "\n",
      "For example, when doing 'df[col].method(value, inplace=True)', try using 'df.method({col: value}, inplace=True)' or df[col] = df[col].method(value) instead, to perform the operation inplace on the original object.\n",
      "\n",
      "\n",
      "  usd_cad['Exchange Rate'].fillna(method='ffill', inplace=True) # 'ffill' replaces missing values with the value from the previous row\n",
      "/var/folders/w4/f8rg8p610t3bch11xq78chv80000gn/T/ipykernel_60229/4259304266.py:4: FutureWarning: Series.fillna with 'method' is deprecated and will raise in a future version. Use obj.ffill() or obj.bfill() instead.\n",
      "  usd_cad['Exchange Rate'].fillna(method='ffill', inplace=True) # 'ffill' replaces missing values with the value from the previous row\n"
     ]
    }
   ],
   "source": [
    "# 3 fill in missing exchange rates \n",
    "\n",
    "def fill_missing_prices(usd_cad):\n",
    "    usd_cad['Exchange Rate'].fillna(method='ffill', inplace=True) # 'ffill' replaces missing values with the value from the previous row\n",
    "    return usd_cad\n",
    "\n",
    "usd_cad = fill_missing_prices(usd_cad.copy())\n",
    "print(usd_cad)"
   ]
  },
  {
   "cell_type": "code",
   "execution_count": 373,
   "metadata": {},
   "outputs": [
    {
     "data": {
      "text/html": [
       "<div>\n",
       "<style scoped>\n",
       "    .dataframe tbody tr th:only-of-type {\n",
       "        vertical-align: middle;\n",
       "    }\n",
       "\n",
       "    .dataframe tbody tr th {\n",
       "        vertical-align: top;\n",
       "    }\n",
       "\n",
       "    .dataframe thead th {\n",
       "        text-align: right;\n",
       "    }\n",
       "</style>\n",
       "<table border=\"1\" class=\"dataframe\">\n",
       "  <thead>\n",
       "    <tr style=\"text-align: right;\">\n",
       "      <th></th>\n",
       "      <th>date</th>\n",
       "      <th>Exchange Rate</th>\n",
       "    </tr>\n",
       "  </thead>\n",
       "  <tbody>\n",
       "    <tr>\n",
       "      <th>0</th>\n",
       "      <td>2019-07-30</td>\n",
       "      <td>1.3168</td>\n",
       "    </tr>\n",
       "    <tr>\n",
       "      <th>1</th>\n",
       "      <td>2019-07-31</td>\n",
       "      <td>1.3148</td>\n",
       "    </tr>\n",
       "    <tr>\n",
       "      <th>2</th>\n",
       "      <td>2019-08-01</td>\n",
       "      <td>1.3217</td>\n",
       "    </tr>\n",
       "    <tr>\n",
       "      <th>3</th>\n",
       "      <td>2019-08-02</td>\n",
       "      <td>1.3225</td>\n",
       "    </tr>\n",
       "    <tr>\n",
       "      <th>4</th>\n",
       "      <td>2019-08-03</td>\n",
       "      <td>1.3225</td>\n",
       "    </tr>\n",
       "    <tr>\n",
       "      <th>...</th>\n",
       "      <td>...</td>\n",
       "      <td>...</td>\n",
       "    </tr>\n",
       "    <tr>\n",
       "      <th>419</th>\n",
       "      <td>2020-09-21</td>\n",
       "      <td>1.3293</td>\n",
       "    </tr>\n",
       "    <tr>\n",
       "      <th>420</th>\n",
       "      <td>2020-09-22</td>\n",
       "      <td>1.3310</td>\n",
       "    </tr>\n",
       "    <tr>\n",
       "      <th>421</th>\n",
       "      <td>2020-09-23</td>\n",
       "      <td>1.3358</td>\n",
       "    </tr>\n",
       "    <tr>\n",
       "      <th>422</th>\n",
       "      <td>2020-09-24</td>\n",
       "      <td>1.3374</td>\n",
       "    </tr>\n",
       "    <tr>\n",
       "      <th>423</th>\n",
       "      <td>2020-09-25</td>\n",
       "      <td>1.3396</td>\n",
       "    </tr>\n",
       "  </tbody>\n",
       "</table>\n",
       "<p>424 rows × 2 columns</p>\n",
       "</div>"
      ],
      "text/plain": [
       "          date  Exchange Rate\n",
       "0   2019-07-30         1.3168\n",
       "1   2019-07-31         1.3148\n",
       "2   2019-08-01         1.3217\n",
       "3   2019-08-02         1.3225\n",
       "4   2019-08-03         1.3225\n",
       "..         ...            ...\n",
       "419 2020-09-21         1.3293\n",
       "420 2020-09-22         1.3310\n",
       "421 2020-09-23         1.3358\n",
       "422 2020-09-24         1.3374\n",
       "423 2020-09-25         1.3396\n",
       "\n",
       "[424 rows x 2 columns]"
      ]
     },
     "execution_count": 373,
     "metadata": {},
     "output_type": "execute_result"
    }
   ],
   "source": [
    "# drop Date column \n",
    "usd_cad = usd_cad.drop(columns=['Date'], inplace=False)\n",
    "usd_cad"
   ]
  },
  {
   "cell_type": "code",
   "execution_count": 374,
   "metadata": {},
   "outputs": [
    {
     "data": {
      "text/plain": [
       "date             datetime64[ns]\n",
       "Exchange Rate           float64\n",
       "dtype: object"
      ]
     },
     "execution_count": 374,
     "metadata": {},
     "output_type": "execute_result"
    }
   ],
   "source": [
    "usd_cad.dtypes"
   ]
  },
  {
   "cell_type": "code",
   "execution_count": 375,
   "metadata": {},
   "outputs": [],
   "source": [
    "# I just want to rename columns before merging for easy reference\n",
    "usd_cad = usd_cad.rename(columns={'date': 'Exchange Date'})"
   ]
  },
  {
   "cell_type": "code",
   "execution_count": 376,
   "metadata": {},
   "outputs": [
    {
     "data": {
      "text/html": [
       "<div>\n",
       "<style scoped>\n",
       "    .dataframe tbody tr th:only-of-type {\n",
       "        vertical-align: middle;\n",
       "    }\n",
       "\n",
       "    .dataframe tbody tr th {\n",
       "        vertical-align: top;\n",
       "    }\n",
       "\n",
       "    .dataframe thead th {\n",
       "        text-align: right;\n",
       "    }\n",
       "</style>\n",
       "<table border=\"1\" class=\"dataframe\">\n",
       "  <thead>\n",
       "    <tr style=\"text-align: right;\">\n",
       "      <th></th>\n",
       "      <th>Report Ref</th>\n",
       "      <th>Filing Date</th>\n",
       "      <th>Report Type</th>\n",
       "      <th>Tran Date</th>\n",
       "      <th>Tran Time</th>\n",
       "      <th>Tran Amt</th>\n",
       "      <th>Tran Cur</th>\n",
       "      <th>Client ID</th>\n",
       "      <th>Tran Date Time</th>\n",
       "      <th>Exchange Date</th>\n",
       "      <th>Exchange Rate</th>\n",
       "    </tr>\n",
       "  </thead>\n",
       "  <tbody>\n",
       "    <tr>\n",
       "      <th>0</th>\n",
       "      <td>EFTO2019080100001001</td>\n",
       "      <td>2019-08-01</td>\n",
       "      <td>EFTO</td>\n",
       "      <td>2019-07-30</td>\n",
       "      <td>1900-01-01 15:34:43</td>\n",
       "      <td>28000.00</td>\n",
       "      <td>CAD</td>\n",
       "      <td>2286141</td>\n",
       "      <td>2019-07-30 15:34:43</td>\n",
       "      <td>2019-07-30</td>\n",
       "      <td>1.3168</td>\n",
       "    </tr>\n",
       "    <tr>\n",
       "      <th>1</th>\n",
       "      <td>EFTO2019080100001002</td>\n",
       "      <td>2019-08-01</td>\n",
       "      <td>EFTO</td>\n",
       "      <td>2019-07-30</td>\n",
       "      <td>1900-01-01 15:34:43</td>\n",
       "      <td>10000.00</td>\n",
       "      <td>CAD</td>\n",
       "      <td>2456977</td>\n",
       "      <td>2019-07-30 15:34:43</td>\n",
       "      <td>2019-07-30</td>\n",
       "      <td>1.3168</td>\n",
       "    </tr>\n",
       "    <tr>\n",
       "      <th>2</th>\n",
       "      <td>EFTO2019080100001003</td>\n",
       "      <td>2019-08-01</td>\n",
       "      <td>EFTO</td>\n",
       "      <td>2019-07-31</td>\n",
       "      <td>1900-01-01 13:23:51</td>\n",
       "      <td>23690.00</td>\n",
       "      <td>USD</td>\n",
       "      <td>3182054</td>\n",
       "      <td>2019-07-31 13:23:51</td>\n",
       "      <td>2019-07-31</td>\n",
       "      <td>1.3148</td>\n",
       "    </tr>\n",
       "    <tr>\n",
       "      <th>3</th>\n",
       "      <td>EFTO2019080200001001</td>\n",
       "      <td>2019-08-02</td>\n",
       "      <td>EFTO</td>\n",
       "      <td>2019-08-01</td>\n",
       "      <td>1900-01-01 15:44:52</td>\n",
       "      <td>20000.00</td>\n",
       "      <td>CAD</td>\n",
       "      <td>3193091</td>\n",
       "      <td>2019-08-01 15:44:52</td>\n",
       "      <td>2019-08-01</td>\n",
       "      <td>1.3217</td>\n",
       "    </tr>\n",
       "    <tr>\n",
       "      <th>4</th>\n",
       "      <td>EFTO2019080600001001</td>\n",
       "      <td>2019-08-06</td>\n",
       "      <td>EFTO</td>\n",
       "      <td>2019-08-02</td>\n",
       "      <td>1900-01-01 13:47:46</td>\n",
       "      <td>33436.00</td>\n",
       "      <td>CAD</td>\n",
       "      <td>2911297</td>\n",
       "      <td>2019-08-02 13:47:46</td>\n",
       "      <td>2019-08-02</td>\n",
       "      <td>1.3225</td>\n",
       "    </tr>\n",
       "    <tr>\n",
       "      <th>...</th>\n",
       "      <td>...</td>\n",
       "      <td>...</td>\n",
       "      <td>...</td>\n",
       "      <td>...</td>\n",
       "      <td>...</td>\n",
       "      <td>...</td>\n",
       "      <td>...</td>\n",
       "      <td>...</td>\n",
       "      <td>...</td>\n",
       "      <td>...</td>\n",
       "      <td>...</td>\n",
       "    </tr>\n",
       "    <tr>\n",
       "      <th>862</th>\n",
       "      <td>EFTI2020092400002002</td>\n",
       "      <td>2020-09-24</td>\n",
       "      <td>EFTI</td>\n",
       "      <td>2020-09-22</td>\n",
       "      <td>1900-01-01 00:00:00</td>\n",
       "      <td>20432.96</td>\n",
       "      <td>CAD</td>\n",
       "      <td>2381375</td>\n",
       "      <td>2020-09-22 00:00:00</td>\n",
       "      <td>2020-09-22</td>\n",
       "      <td>1.3310</td>\n",
       "    </tr>\n",
       "    <tr>\n",
       "      <th>863</th>\n",
       "      <td>EFTI2020092500001001</td>\n",
       "      <td>2020-09-25</td>\n",
       "      <td>EFTI</td>\n",
       "      <td>2020-09-23</td>\n",
       "      <td>1900-01-01 00:00:00</td>\n",
       "      <td>32573.68</td>\n",
       "      <td>CAD</td>\n",
       "      <td>2462805</td>\n",
       "      <td>2020-09-23 00:00:00</td>\n",
       "      <td>2020-09-23</td>\n",
       "      <td>1.3358</td>\n",
       "    </tr>\n",
       "    <tr>\n",
       "      <th>864</th>\n",
       "      <td>EFTI2020092500001002</td>\n",
       "      <td>2020-09-25</td>\n",
       "      <td>EFTI</td>\n",
       "      <td>2020-09-22</td>\n",
       "      <td>1900-01-01 00:00:00</td>\n",
       "      <td>4913.93</td>\n",
       "      <td>CAD</td>\n",
       "      <td>3221652</td>\n",
       "      <td>2020-09-22 00:00:00</td>\n",
       "      <td>2020-09-22</td>\n",
       "      <td>1.3310</td>\n",
       "    </tr>\n",
       "    <tr>\n",
       "      <th>865</th>\n",
       "      <td>EFTI2020092500001003</td>\n",
       "      <td>2020-09-25</td>\n",
       "      <td>EFTI</td>\n",
       "      <td>2020-09-23</td>\n",
       "      <td>1900-01-01 00:00:00</td>\n",
       "      <td>59999.73</td>\n",
       "      <td>CAD</td>\n",
       "      <td>3221652</td>\n",
       "      <td>2020-09-23 00:00:00</td>\n",
       "      <td>2020-09-23</td>\n",
       "      <td>1.3358</td>\n",
       "    </tr>\n",
       "    <tr>\n",
       "      <th>866</th>\n",
       "      <td>EFTO2020092900001001</td>\n",
       "      <td>2020-09-29</td>\n",
       "      <td>EFTO</td>\n",
       "      <td>2020-09-25</td>\n",
       "      <td>1900-01-01 15:36:45</td>\n",
       "      <td>20200.00</td>\n",
       "      <td>CAD</td>\n",
       "      <td>2954196</td>\n",
       "      <td>2020-09-25 15:36:45</td>\n",
       "      <td>2020-09-25</td>\n",
       "      <td>1.3396</td>\n",
       "    </tr>\n",
       "  </tbody>\n",
       "</table>\n",
       "<p>867 rows × 11 columns</p>\n",
       "</div>"
      ],
      "text/plain": [
       "               Report Ref Filing Date Report Type  Tran Date  \\\n",
       "0    EFTO2019080100001001  2019-08-01        EFTO 2019-07-30   \n",
       "1    EFTO2019080100001002  2019-08-01        EFTO 2019-07-30   \n",
       "2    EFTO2019080100001003  2019-08-01        EFTO 2019-07-31   \n",
       "3    EFTO2019080200001001  2019-08-02        EFTO 2019-08-01   \n",
       "4    EFTO2019080600001001  2019-08-06        EFTO 2019-08-02   \n",
       "..                    ...         ...         ...        ...   \n",
       "862  EFTI2020092400002002  2020-09-24        EFTI 2020-09-22   \n",
       "863  EFTI2020092500001001  2020-09-25        EFTI 2020-09-23   \n",
       "864  EFTI2020092500001002  2020-09-25        EFTI 2020-09-22   \n",
       "865  EFTI2020092500001003  2020-09-25        EFTI 2020-09-23   \n",
       "866  EFTO2020092900001001  2020-09-29        EFTO 2020-09-25   \n",
       "\n",
       "              Tran Time  Tran Amt Tran Cur  Client ID      Tran Date Time  \\\n",
       "0   1900-01-01 15:34:43  28000.00      CAD    2286141 2019-07-30 15:34:43   \n",
       "1   1900-01-01 15:34:43  10000.00      CAD    2456977 2019-07-30 15:34:43   \n",
       "2   1900-01-01 13:23:51  23690.00      USD    3182054 2019-07-31 13:23:51   \n",
       "3   1900-01-01 15:44:52  20000.00      CAD    3193091 2019-08-01 15:44:52   \n",
       "4   1900-01-01 13:47:46  33436.00      CAD    2911297 2019-08-02 13:47:46   \n",
       "..                  ...       ...      ...        ...                 ...   \n",
       "862 1900-01-01 00:00:00  20432.96      CAD    2381375 2020-09-22 00:00:00   \n",
       "863 1900-01-01 00:00:00  32573.68      CAD    2462805 2020-09-23 00:00:00   \n",
       "864 1900-01-01 00:00:00   4913.93      CAD    3221652 2020-09-22 00:00:00   \n",
       "865 1900-01-01 00:00:00  59999.73      CAD    3221652 2020-09-23 00:00:00   \n",
       "866 1900-01-01 15:36:45  20200.00      CAD    2954196 2020-09-25 15:36:45   \n",
       "\n",
       "    Exchange Date  Exchange Rate  \n",
       "0      2019-07-30         1.3168  \n",
       "1      2019-07-30         1.3168  \n",
       "2      2019-07-31         1.3148  \n",
       "3      2019-08-01         1.3217  \n",
       "4      2019-08-02         1.3225  \n",
       "..            ...            ...  \n",
       "862    2020-09-22         1.3310  \n",
       "863    2020-09-23         1.3358  \n",
       "864    2020-09-22         1.3310  \n",
       "865    2020-09-23         1.3358  \n",
       "866    2020-09-25         1.3396  \n",
       "\n",
       "[867 rows x 11 columns]"
      ]
     },
     "execution_count": 376,
     "metadata": {},
     "output_type": "execute_result"
    }
   ],
   "source": [
    "# merge fintrac and usd_cad based on date\n",
    "fintrac = fintrac.reset_index(drop=True)  # drop index\n",
    "usd_cad = usd_cad.reset_index(drop=True) # drop index\n",
    "\n",
    "fintrac_cad = fintrac.merge(usd_cad, how='left', left_on='Tran Date', right_on='Exchange Date')\n",
    "fintrac_cad\n"
   ]
  },
  {
   "cell_type": "code",
   "execution_count": 377,
   "metadata": {},
   "outputs": [
    {
     "data": {
      "text/plain": [
       "Report Ref        0\n",
       "Filing Date       0\n",
       "Report Type       0\n",
       "Tran Date         0\n",
       "Tran Time         0\n",
       "Tran Amt          0\n",
       "Tran Cur          0\n",
       "Client ID         0\n",
       "Tran Date Time    0\n",
       "Exchange Date     0\n",
       "Exchange Rate     0\n",
       "dtype: int64"
      ]
     },
     "execution_count": 377,
     "metadata": {},
     "output_type": "execute_result"
    }
   ],
   "source": [
    "# checking if there are any missing values \n",
    "fintrac_cad.isna().sum()"
   ]
  },
  {
   "cell_type": "code",
   "execution_count": 378,
   "metadata": {},
   "outputs": [
    {
     "name": "stdout",
     "output_type": "stream",
     "text": [
      "               Report Ref Filing Date Report Type  Tran Date  \\\n",
      "0    EFTO2019080100001001  2019-08-01        EFTO 2019-07-30   \n",
      "1    EFTO2019080100001002  2019-08-01        EFTO 2019-07-30   \n",
      "2    EFTO2019080100001003  2019-08-01        EFTO 2019-07-31   \n",
      "3    EFTO2019080200001001  2019-08-02        EFTO 2019-08-01   \n",
      "4    EFTO2019080600001001  2019-08-06        EFTO 2019-08-02   \n",
      "..                    ...         ...         ...        ...   \n",
      "862  EFTI2020092400002002  2020-09-24        EFTI 2020-09-22   \n",
      "863  EFTI2020092500001001  2020-09-25        EFTI 2020-09-23   \n",
      "864  EFTI2020092500001002  2020-09-25        EFTI 2020-09-22   \n",
      "865  EFTI2020092500001003  2020-09-25        EFTI 2020-09-23   \n",
      "866  EFTO2020092900001001  2020-09-29        EFTO 2020-09-25   \n",
      "\n",
      "              Tran Time   Tran Amt Tran Cur  Client ID      Tran Date Time  \\\n",
      "0   1900-01-01 15:34:43  28000.000      CAD    2286141 2019-07-30 15:34:43   \n",
      "1   1900-01-01 15:34:43  10000.000      CAD    2456977 2019-07-30 15:34:43   \n",
      "2   1900-01-01 13:23:51  31147.612      CAD    3182054 2019-07-31 13:23:51   \n",
      "3   1900-01-01 15:44:52  20000.000      CAD    3193091 2019-08-01 15:44:52   \n",
      "4   1900-01-01 13:47:46  33436.000      CAD    2911297 2019-08-02 13:47:46   \n",
      "..                  ...        ...      ...        ...                 ...   \n",
      "862 1900-01-01 00:00:00  20432.960      CAD    2381375 2020-09-22 00:00:00   \n",
      "863 1900-01-01 00:00:00  32573.680      CAD    2462805 2020-09-23 00:00:00   \n",
      "864 1900-01-01 00:00:00   4913.930      CAD    3221652 2020-09-22 00:00:00   \n",
      "865 1900-01-01 00:00:00  59999.730      CAD    3221652 2020-09-23 00:00:00   \n",
      "866 1900-01-01 15:36:45  20200.000      CAD    2954196 2020-09-25 15:36:45   \n",
      "\n",
      "    Exchange Date  Exchange Rate  \n",
      "0      2019-07-30         1.3168  \n",
      "1      2019-07-30         1.3168  \n",
      "2      2019-07-31         1.3148  \n",
      "3      2019-08-01         1.3217  \n",
      "4      2019-08-02         1.3225  \n",
      "..            ...            ...  \n",
      "862    2020-09-22         1.3310  \n",
      "863    2020-09-23         1.3358  \n",
      "864    2020-09-22         1.3310  \n",
      "865    2020-09-23         1.3358  \n",
      "866    2020-09-25         1.3396  \n",
      "\n",
      "[867 rows x 11 columns]\n"
     ]
    },
    {
     "name": "stderr",
     "output_type": "stream",
     "text": [
      "/var/folders/w4/f8rg8p610t3bch11xq78chv80000gn/T/ipykernel_60229/3577929756.py:3: SettingWithCopyWarning: \n",
      "A value is trying to be set on a copy of a slice from a DataFrame.\n",
      "Try using .loc[row_indexer,col_indexer] = value instead\n",
      "\n",
      "See the caveats in the documentation: https://pandas.pydata.org/pandas-docs/stable/user_guide/indexing.html#returning-a-view-versus-a-copy\n",
      "  usd_tran['Tran Amt'] = usd_tran['Tran Amt'] * usd_tran['Exchange Rate']\n"
     ]
    }
   ],
   "source": [
    "# convert USD transactions into CAD\n",
    "usd_tran = fintrac_cad[fintrac_cad['Tran Cur'] == 'USD']\n",
    "usd_tran['Tran Amt'] = usd_tran['Tran Amt'] * usd_tran['Exchange Rate']\n",
    "\n",
    "# update fintrac_cad and replace usd transacion amounts and currency with CAD\n",
    "fintrac_cad.loc[usd_tran.index, 'Tran Amt'] = usd_tran['Tran Amt']\n",
    "fintrac_cad.loc[usd_tran.index, 'Tran Cur'] = 'CAD'\n",
    "print(fintrac_cad)"
   ]
  },
  {
   "cell_type": "markdown",
   "metadata": {},
   "source": [
    "------------------------------\n",
    "EFT-SWIFT transactions must be reported to FINTRAC if one of the following conditions is met:\n",
    "- Single EFT transactions with SWIFT transaction type exceeding $10,000;\n",
    "- Two or more EFT-SWIFT transactions that were made within 24 hours (less than $10,000 each) exceeding $10,000 in total.\n",
    "------------------------------"
   ]
  },
  {
   "cell_type": "code",
   "execution_count": 379,
   "metadata": {},
   "outputs": [
    {
     "data": {
      "text/html": [
       "<div>\n",
       "<style scoped>\n",
       "    .dataframe tbody tr th:only-of-type {\n",
       "        vertical-align: middle;\n",
       "    }\n",
       "\n",
       "    .dataframe tbody tr th {\n",
       "        vertical-align: top;\n",
       "    }\n",
       "\n",
       "    .dataframe thead th {\n",
       "        text-align: right;\n",
       "    }\n",
       "</style>\n",
       "<table border=\"1\" class=\"dataframe\">\n",
       "  <thead>\n",
       "    <tr style=\"text-align: right;\">\n",
       "      <th></th>\n",
       "      <th>CIF</th>\n",
       "      <th>EFFECTIVE_DATE</th>\n",
       "      <th>TRANSACTION_AMOUNT</th>\n",
       "      <th>TRANSACTION_CODE</th>\n",
       "      <th>TRANSACTION_DECRIPTION</th>\n",
       "      <th>TIME_SEQ</th>\n",
       "      <th>TRANS_DATETIME</th>\n",
       "    </tr>\n",
       "  </thead>\n",
       "  <tbody>\n",
       "    <tr>\n",
       "      <th>0</th>\n",
       "      <td>3300125</td>\n",
       "      <td>2020-07-21</td>\n",
       "      <td>108880.95</td>\n",
       "      <td>CM</td>\n",
       "      <td>Deposit</td>\n",
       "      <td>1900-01-01 08:44:26</td>\n",
       "      <td>2020-07-21 08:44:26</td>\n",
       "    </tr>\n",
       "    <tr>\n",
       "      <th>1</th>\n",
       "      <td>2616067</td>\n",
       "      <td>2020-07-21</td>\n",
       "      <td>-1200000.00</td>\n",
       "      <td>DM</td>\n",
       "      <td>Funds Wired to/from</td>\n",
       "      <td>1900-01-01 10:09:05</td>\n",
       "      <td>2020-07-21 10:09:05</td>\n",
       "    </tr>\n",
       "    <tr>\n",
       "      <th>2</th>\n",
       "      <td>3233547</td>\n",
       "      <td>2020-07-21</td>\n",
       "      <td>-15000.00</td>\n",
       "      <td>DM</td>\n",
       "      <td>Funds Wired to/from</td>\n",
       "      <td>1900-01-01 15:18:22</td>\n",
       "      <td>2020-07-21 15:18:22</td>\n",
       "    </tr>\n",
       "    <tr>\n",
       "      <th>3</th>\n",
       "      <td>2372206</td>\n",
       "      <td>2020-07-21</td>\n",
       "      <td>362452.27</td>\n",
       "      <td>CM</td>\n",
       "      <td>Funds Wired to/from</td>\n",
       "      <td>1900-01-01 12:11:03</td>\n",
       "      <td>2020-07-21 12:11:03</td>\n",
       "    </tr>\n",
       "    <tr>\n",
       "      <th>4</th>\n",
       "      <td>2274624</td>\n",
       "      <td>2020-07-21</td>\n",
       "      <td>217794.43</td>\n",
       "      <td>CM</td>\n",
       "      <td>Funds Wired to/from</td>\n",
       "      <td>1900-01-01 11:34:49</td>\n",
       "      <td>2020-07-21 11:34:49</td>\n",
       "    </tr>\n",
       "  </tbody>\n",
       "</table>\n",
       "</div>"
      ],
      "text/plain": [
       "       CIF EFFECTIVE_DATE  TRANSACTION_AMOUNT TRANSACTION_CODE  \\\n",
       "0  3300125     2020-07-21           108880.95               CM   \n",
       "1  2616067     2020-07-21         -1200000.00               DM   \n",
       "2  3233547     2020-07-21           -15000.00               DM   \n",
       "3  2372206     2020-07-21           362452.27               CM   \n",
       "4  2274624     2020-07-21           217794.43               CM   \n",
       "\n",
       "  TRANSACTION_DECRIPTION            TIME_SEQ      TRANS_DATETIME  \n",
       "0                Deposit 1900-01-01 08:44:26 2020-07-21 08:44:26  \n",
       "1    Funds Wired to/from 1900-01-01 10:09:05 2020-07-21 10:09:05  \n",
       "2    Funds Wired to/from 1900-01-01 15:18:22 2020-07-21 15:18:22  \n",
       "3    Funds Wired to/from 1900-01-01 12:11:03 2020-07-21 12:11:03  \n",
       "4    Funds Wired to/from 1900-01-01 11:34:49 2020-07-21 11:34:49  "
      ]
     },
     "execution_count": 379,
     "metadata": {},
     "output_type": "execute_result"
    }
   ],
   "source": [
    "eft.head()"
   ]
  },
  {
   "cell_type": "code",
   "execution_count": 380,
   "metadata": {},
   "outputs": [
    {
     "name": "stdout",
     "output_type": "stream",
     "text": [
      "            CIF EFFECTIVE_DATE  TRANSACTION_AMOUNT TRANSACTION_CODE  \\\n",
      "14      2462805     2020-07-24            16161.13               CM   \n",
      "16      2495504     2020-07-24               60.99               CM   \n",
      "56      2674126     2020-07-13           -13200.00               DM   \n",
      "70      2149604     2020-07-16           -27549.56               DM   \n",
      "104     3043238     2020-07-16            -4781.10               DM   \n",
      "...         ...            ...                 ...              ...   \n",
      "136589  3292029     2020-09-29             3977.09               CM   \n",
      "136840  2374750     2020-09-30           -58515.92               DM   \n",
      "136935  2659416     2020-09-30             -916.50               DM   \n",
      "137038  2158848     2020-09-30           -10255.36               DM   \n",
      "137060  3070027     2020-09-30          -128810.88               DM   \n",
      "\n",
      "       TRANSACTION_DECRIPTION            TIME_SEQ      TRANS_DATETIME  \n",
      "14         International Wire 1900-01-01 11:46:44 2020-07-24 11:46:44  \n",
      "16         International Wire 1900-01-01 10:35:41 2020-07-24 10:35:41  \n",
      "56         International Wire 1900-01-01 11:11:07 2020-07-13 11:11:07  \n",
      "70         International Wire 1900-01-01 15:50:45 2020-07-16 15:50:45  \n",
      "104        International Wire 1900-01-01 15:54:25 2020-07-16 15:54:25  \n",
      "...                       ...                 ...                 ...  \n",
      "136589     International Wire 1900-01-01 09:53:44 2020-09-29 09:53:44  \n",
      "136840  US International Wire 1900-01-01 11:17:27 2020-09-30 11:17:27  \n",
      "136935     International Wire 1900-01-01 10:01:08 2020-09-30 10:01:08  \n",
      "137038     International Wire 1900-01-01 10:02:23 2020-09-30 10:02:23  \n",
      "137060     International Wire 1900-01-01 16:15:26 2020-09-30 16:15:26  \n",
      "\n",
      "[2588 rows x 7 columns]\n"
     ]
    }
   ],
   "source": [
    "# let's crate a subset from eft df for SWIFT transactions:\n",
    "# 'International Wire', 'US International Wire', 'International Wire BoC'\n",
    "\n",
    "swift_eft = eft[eft['TRANSACTION_DECRIPTION'].isin(['International Wire', 'US International Wire', 'International Wire BoC'])]\n",
    "print(swift_eft)"
   ]
  },
  {
   "cell_type": "code",
   "execution_count": 381,
   "metadata": {},
   "outputs": [
    {
     "name": "stdout",
     "output_type": "stream",
     "text": [
      "            CIF EFFECTIVE_DATE  TRANSACTION_AMOUNT TRANSACTION_CODE  \\\n",
      "14      2462805     2020-07-24            16161.13               CM   \n",
      "56      2674126     2020-07-13           -13200.00               DM   \n",
      "70      2149604     2020-07-16           -27549.56               DM   \n",
      "106     2638391     2020-07-16           -15937.00               DM   \n",
      "298     3292029     2020-07-30            28724.61               CM   \n",
      "...         ...            ...                 ...              ...   \n",
      "136441  2829976     2020-09-29            25942.52               CM   \n",
      "136578  2625588     2020-09-29            18344.72               CM   \n",
      "136840  2374750     2020-09-30           -58515.92               DM   \n",
      "137038  2158848     2020-09-30           -10255.36               DM   \n",
      "137060  3070027     2020-09-30          -128810.88               DM   \n",
      "\n",
      "       TRANSACTION_DECRIPTION            TIME_SEQ      TRANS_DATETIME  \n",
      "14         International Wire 1900-01-01 11:46:44 2020-07-24 11:46:44  \n",
      "56         International Wire 1900-01-01 11:11:07 2020-07-13 11:11:07  \n",
      "70         International Wire 1900-01-01 15:50:45 2020-07-16 15:50:45  \n",
      "106        International Wire 1900-01-01 09:57:21 2020-07-16 09:57:21  \n",
      "298        International Wire 1900-01-01 11:01:12 2020-07-30 11:01:12  \n",
      "...                       ...                 ...                 ...  \n",
      "136441     International Wire 1900-01-01 16:14:47 2020-09-29 16:14:47  \n",
      "136578     International Wire 1900-01-01 10:10:40 2020-09-29 10:10:40  \n",
      "136840  US International Wire 1900-01-01 11:17:27 2020-09-30 11:17:27  \n",
      "137038     International Wire 1900-01-01 10:02:23 2020-09-30 10:02:23  \n",
      "137060     International Wire 1900-01-01 16:15:26 2020-09-30 16:15:26  \n",
      "\n",
      "[810 rows x 7 columns]\n"
     ]
    }
   ],
   "source": [
    "# identify single transactions exceeding $10,000 \n",
    "# since we're asked to report all transactions, in and out, we'll look for both + and - transactions (abs values) \n",
    "single_swift = swift_eft[abs(swift_eft['TRANSACTION_AMOUNT']) > 10000] \n",
    "print(single_swift)\n",
    "# 810 over 10,000 or -10,000"
   ]
  },
  {
   "cell_type": "markdown",
   "metadata": {},
   "source": [
    "Verify if the bank has reported all single_swift transactions timely (reporting date is expected to be the same as transaction date) \n",
    "and accurately (reported transaction date and amount must be matching eft data)."
   ]
  },
  {
   "cell_type": "code",
   "execution_count": 382,
   "metadata": {},
   "outputs": [
    {
     "name": "stdout",
     "output_type": "stream",
     "text": [
      "         CIF EFFECTIVE_DATE  TRANSACTION_AMOUNT TRANSACTION_DECRIPTION  \\\n",
      "0    2462805     2020-07-24            16161.13     International Wire   \n",
      "1    2674126     2020-07-13           -13200.00     International Wire   \n",
      "2    2149604     2020-07-16           -27549.56     International Wire   \n",
      "3    2638391     2020-07-16           -15937.00     International Wire   \n",
      "4    3292029     2020-07-30            28724.61     International Wire   \n",
      "..       ...            ...                 ...                    ...   \n",
      "805  2829976     2020-09-29            25942.52     International Wire   \n",
      "806  2625588     2020-09-29            18344.72     International Wire   \n",
      "807  2374750     2020-09-30           -58515.92  US International Wire   \n",
      "808  2158848     2020-09-30           -10255.36     International Wire   \n",
      "809  3070027     2020-09-30          -128810.88     International Wire   \n",
      "\n",
      "               Report Ref  Client ID Filing Date  Tran Date  Tran Amt  \n",
      "0    EFTI2020072900001001  2462805.0  2020-07-29 2020-07-24  16161.13  \n",
      "1                     NaN        NaN         NaT        NaT       NaN  \n",
      "2                     NaN        NaN         NaT        NaT       NaN  \n",
      "3                     NaN        NaN         NaT        NaT       NaN  \n",
      "4    EFTI2020080400001004  3292029.0  2020-08-04 2020-07-30  28724.61  \n",
      "..                    ...        ...         ...        ...       ...  \n",
      "805                   NaN        NaN         NaT        NaT       NaN  \n",
      "806                   NaN        NaN         NaT        NaT       NaN  \n",
      "807                   NaN        NaN         NaT        NaT       NaN  \n",
      "808                   NaN        NaN         NaT        NaT       NaN  \n",
      "809                   NaN        NaN         NaT        NaT       NaN  \n",
      "\n",
      "[810 rows x 9 columns]\n"
     ]
    }
   ],
   "source": [
    "# merge single_swift and fintrac_cad df using left merge\n",
    "single_swift_reported = pd.merge(\n",
    "    single_swift[['CIF', 'EFFECTIVE_DATE', 'TRANSACTION_AMOUNT', 'TRANSACTION_DECRIPTION']],\n",
    "    fintrac_cad[['Report Ref', 'Client ID', 'Filing Date', 'Tran Date', 'Tran Amt']],\n",
    "    left_on=['CIF', 'EFFECTIVE_DATE', 'TRANSACTION_AMOUNT'], right_on=['Client ID', 'Tran Date', 'Tran Amt'], \n",
    "    how='left')\n",
    "print(single_swift_reported)"
   ]
  },
  {
   "cell_type": "code",
   "execution_count": 383,
   "metadata": {},
   "outputs": [
    {
     "name": "stdout",
     "output_type": "stream",
     "text": [
      "         CIF EFFECTIVE_DATE  TRANSACTION_AMOUNT TRANSACTION_DECRIPTION  \\\n",
      "1    2674126     2020-07-13           -13200.00     International Wire   \n",
      "2    2149604     2020-07-16           -27549.56     International Wire   \n",
      "3    2638391     2020-07-16           -15937.00     International Wire   \n",
      "7    2516410     2020-07-30          -460665.00     International Wire   \n",
      "12   3237736     2020-07-28            13500.00  US International Wire   \n",
      "..       ...            ...                 ...                    ...   \n",
      "805  2829976     2020-09-29            25942.52     International Wire   \n",
      "806  2625588     2020-09-29            18344.72     International Wire   \n",
      "807  2374750     2020-09-30           -58515.92  US International Wire   \n",
      "808  2158848     2020-09-30           -10255.36     International Wire   \n",
      "809  3070027     2020-09-30          -128810.88     International Wire   \n",
      "\n",
      "    Report Ref  Client ID Filing Date Tran Date  Tran Amt  \n",
      "1          NaN        NaN         NaT       NaT       NaN  \n",
      "2          NaN        NaN         NaT       NaT       NaN  \n",
      "3          NaN        NaN         NaT       NaT       NaN  \n",
      "7          NaN        NaN         NaT       NaT       NaN  \n",
      "12         NaN        NaN         NaT       NaT       NaN  \n",
      "..         ...        ...         ...       ...       ...  \n",
      "805        NaN        NaN         NaT       NaT       NaN  \n",
      "806        NaN        NaN         NaT       NaT       NaN  \n",
      "807        NaN        NaN         NaT       NaT       NaN  \n",
      "808        NaN        NaN         NaT       NaT       NaN  \n",
      "809        NaN        NaN         NaT       NaT       NaN  \n",
      "\n",
      "[610 rows x 9 columns]\n"
     ]
    }
   ],
   "source": [
    "# the number of NaN will be the number of transactions that were not reported timely and accurately \n",
    "single_swift_not_reported = single_swift_reported[single_swift_reported['Report Ref'].isna()]\n",
    "print(single_swift_not_reported)\n",
    "# 610 transactions were not reported timely or accurately\n",
    "\n",
    "# to do a spot check of transactions with a business unit "
   ]
  },
  {
   "cell_type": "code",
   "execution_count": 384,
   "metadata": {},
   "outputs": [
    {
     "data": {
      "text/plain": [
       "TRANSACTION_DECRIPTION\n",
       "International Wire       544\n",
       "US International Wire     66\n",
       "Name: count, dtype: int64"
      ]
     },
     "execution_count": 384,
     "metadata": {},
     "output_type": "execute_result"
    }
   ],
   "source": [
    "# exploring transactions that were not reported timely or accurately \n",
    "\n",
    "# TRANSACTION_DECRIPTION \n",
    "single_swift_not_reported['TRANSACTION_DECRIPTION'].value_counts()"
   ]
  },
  {
   "cell_type": "code",
   "execution_count": 385,
   "metadata": {},
   "outputs": [
    {
     "data": {
      "text/plain": [
       "CIF                       380\n",
       "EFFECTIVE_DATE            380\n",
       "TRANSACTION_AMOUNT        380\n",
       "TRANSACTION_DECRIPTION    380\n",
       "Report Ref                  0\n",
       "Client ID                   0\n",
       "Filing Date                 0\n",
       "Tran Date                   0\n",
       "Tran Amt                    0\n",
       "dtype: int64"
      ]
     },
     "execution_count": 385,
     "metadata": {},
     "output_type": "execute_result"
    }
   ],
   "source": [
    "# distribution of positive and negative transactions\n",
    "positive_single_swift = single_swift_not_reported[single_swift_not_reported['TRANSACTION_AMOUNT'] > 0]\n",
    "negative_single_swift = single_swift_not_reported[single_swift_not_reported['TRANSACTION_AMOUNT'] < 0]\n",
    "positive_single_swift.count() #230 transactions exceeding $10,000 \n",
    "negative_single_swift.count() #380 transactions exceeding -$10,000"
   ]
  },
  {
   "cell_type": "code",
   "execution_count": 386,
   "metadata": {},
   "outputs": [],
   "source": [
    "# now we can save the output into a scv file for further spotcheck/ present to business unit\n",
    "#single_swift_reported.to_csv('single_swift_reported.csv', index=False)"
   ]
  },
  {
   "cell_type": "markdown",
   "metadata": {},
   "source": [
    "Identify two or more transactions that were made within 24 hours (less than $10,000 each) exceeding $10,000 in total"
   ]
  },
  {
   "cell_type": "code",
   "execution_count": 387,
   "metadata": {},
   "outputs": [
    {
     "name": "stdout",
     "output_type": "stream",
     "text": [
      "        CIF EFFECTIVE_DATE  TRANSACTION_AMOUNT TRANSACTION_CODE  \\\n",
      "0   3083202     2019-11-25             7312.68               CM   \n",
      "1   3083202     2019-11-25             7419.58               CM   \n",
      "2   3205784     2020-04-08             5413.21               CM   \n",
      "3   3205784     2020-04-08             5400.54               CM   \n",
      "4   2842829     2020-04-24             4418.27               CM   \n",
      "5   2842829     2020-04-24             4531.04               CM   \n",
      "6   2842829     2020-04-24             4748.03               CM   \n",
      "7   2634428     2020-04-24             6858.17               CM   \n",
      "8   2634428     2020-04-24             7152.76               CM   \n",
      "9   3112248     2020-08-07             6532.97               CM   \n",
      "10  3112248     2020-08-07             6532.97               CM   \n",
      "11  2670066     2020-08-10             9097.47               CM   \n",
      "12  2670066     2020-08-10             9989.00               CM   \n",
      "13  3292029     2020-09-29             9149.76               CM   \n",
      "14  3292029     2020-09-29             3977.09               CM   \n",
      "\n",
      "   TRANSACTION_DECRIPTION            TIME_SEQ      TRANS_DATETIME  \n",
      "0      International Wire 1900-01-01 12:26:45 2019-11-25 12:26:45  \n",
      "1      International Wire 1900-01-01 12:30:44 2019-11-25 12:30:44  \n",
      "2      International Wire 1900-01-01 08:30:27 2020-04-08 08:30:27  \n",
      "3      International Wire 1900-01-01 15:49:06 2020-04-08 15:49:06  \n",
      "4      International Wire 1900-01-01 11:01:26 2020-04-24 11:01:26  \n",
      "5      International Wire 1900-01-01 11:03:46 2020-04-24 11:03:46  \n",
      "6      International Wire 1900-01-01 11:05:20 2020-04-24 11:05:20  \n",
      "7      International Wire 1900-01-01 11:39:57 2020-04-24 11:39:57  \n",
      "8      International Wire 1900-01-01 11:41:16 2020-04-24 11:41:16  \n",
      "9   US International Wire 1900-01-01 11:47:17 2020-08-07 11:47:17  \n",
      "10     International Wire 1900-01-01 12:35:10 2020-08-07 12:35:10  \n",
      "11     International Wire 1900-01-01 12:16:49 2020-08-10 12:16:49  \n",
      "12     International Wire 1900-01-01 12:17:55 2020-08-10 12:17:55  \n",
      "13     International Wire 1900-01-01 09:59:32 2020-09-29 09:59:32  \n",
      "14     International Wire 1900-01-01 09:53:44 2020-09-29 09:53:44  \n"
     ]
    }
   ],
   "source": [
    "# filter transactions less than $10,000 in absolute value\n",
    "df_filtered = swift_eft[abs(swift_eft['TRANSACTION_AMOUNT']) < 10000]\n",
    "\n",
    "# group by CIF and EFFECTIVE_DATE and calculate the sum of transaction amounts for + and - amounts separately \n",
    "grouped = df_filtered.groupby(['CIF', 'EFFECTIVE_DATE']).agg(\n",
    "    total_positive_amount=pd.NamedAgg(column='TRANSACTION_AMOUNT', aggfunc=lambda x: x[x > 0].sum()),\n",
    "    total_negative_amount=pd.NamedAgg(column='TRANSACTION_AMOUNT', aggfunc=lambda x: x[x < 0].sum())\n",
    ").reset_index()\n",
    "\n",
    "# check conditions\n",
    "grouped['POSITIVE_OVER_10000'] = grouped['total_positive_amount'] > 10000\n",
    "grouped['NEGATIVE_UNDER_MINUS_10000'] = grouped['total_negative_amount'] < -10000\n",
    "\n",
    "filtered = grouped[(grouped['POSITIVE_OVER_10000']) | (grouped['NEGATIVE_UNDER_MINUS_10000'])]\n",
    "\n",
    "# merge filtered data with original df to get all transaction details\n",
    "mult_swift = swift_eft.merge(filtered[['CIF', 'EFFECTIVE_DATE']], on=['CIF', 'EFFECTIVE_DATE'])\n",
    "\n",
    "print(mult_swift)\n",
    "# 15 transactions "
   ]
  },
  {
   "cell_type": "markdown",
   "metadata": {},
   "source": [
    "Identify two or more transactions that were made within 24 hours (less than $10,000 each) exceeding $10,000 in total were reported \n",
    "timely (reporting date is expected to be the same as transaction date) and accurately (reported transaction date and amount must be matching eft data)."
   ]
  },
  {
   "cell_type": "code",
   "execution_count": 388,
   "metadata": {},
   "outputs": [
    {
     "name": "stdout",
     "output_type": "stream",
     "text": [
      "        CIF EFFECTIVE_DATE  TRANSACTION_AMOUNT TRANSACTION_DECRIPTION  \\\n",
      "0   3083202     2019-11-25             7312.68     International Wire   \n",
      "1   3083202     2019-11-25             7419.58     International Wire   \n",
      "2   3205784     2020-04-08             5413.21     International Wire   \n",
      "3   3205784     2020-04-08             5400.54     International Wire   \n",
      "4   2842829     2020-04-24             4418.27     International Wire   \n",
      "5   2842829     2020-04-24             4531.04     International Wire   \n",
      "6   2842829     2020-04-24             4748.03     International Wire   \n",
      "7   2634428     2020-04-24             6858.17     International Wire   \n",
      "8   2634428     2020-04-24             7152.76     International Wire   \n",
      "9   3112248     2020-08-07             6532.97  US International Wire   \n",
      "10  3112248     2020-08-07             6532.97     International Wire   \n",
      "11  2670066     2020-08-10             9097.47     International Wire   \n",
      "12  2670066     2020-08-10             9989.00     International Wire   \n",
      "13  3292029     2020-09-29             9149.76     International Wire   \n",
      "14  3292029     2020-09-29             3977.09     International Wire   \n",
      "\n",
      "              Report Ref  Client ID Filing Date  Tran Date  Tran Amt  \n",
      "0                    NaN        NaN         NaT        NaT       NaN  \n",
      "1                    NaN        NaN         NaT        NaT       NaN  \n",
      "2                    NaN        NaN         NaT        NaT       NaN  \n",
      "3                    NaN        NaN         NaT        NaT       NaN  \n",
      "4   EFTI2020042800001001  2842829.0  2020-04-28 2020-04-24   4418.27  \n",
      "5   EFTI2020042800001002  2842829.0  2020-04-28 2020-04-24   4531.04  \n",
      "6   EFTI2020042800001003  2842829.0  2020-04-28 2020-04-24   4748.03  \n",
      "7                    NaN        NaN         NaT        NaT       NaN  \n",
      "8                    NaN        NaN         NaT        NaT       NaN  \n",
      "9                    NaN        NaN         NaT        NaT       NaN  \n",
      "10                   NaN        NaN         NaT        NaT       NaN  \n",
      "11  EFTI2020081200001005  2670066.0  2020-08-12 2020-08-10   9097.47  \n",
      "12  EFTI2020081200001006  2670066.0  2020-08-12 2020-08-10   9989.00  \n",
      "13                   NaN        NaN         NaT        NaT       NaN  \n",
      "14                   NaN        NaN         NaT        NaT       NaN  \n"
     ]
    }
   ],
   "source": [
    "# merge mult_swift and fintrac_cad df using left merge\n",
    "mult_swift_reported = pd.merge(\n",
    "    mult_swift[['CIF', 'EFFECTIVE_DATE', 'TRANSACTION_AMOUNT', 'TRANSACTION_DECRIPTION']],\n",
    "    fintrac_cad[['Report Ref', 'Client ID', 'Filing Date', 'Tran Date', 'Tran Amt']],\n",
    "    left_on=['CIF', 'EFFECTIVE_DATE', 'TRANSACTION_AMOUNT'], right_on=['Client ID', 'Tran Date', 'Tran Amt'],\n",
    "    how='left')\n",
    "print(mult_swift_reported)"
   ]
  },
  {
   "cell_type": "code",
   "execution_count": 389,
   "metadata": {},
   "outputs": [
    {
     "data": {
      "text/html": [
       "<div>\n",
       "<style scoped>\n",
       "    .dataframe tbody tr th:only-of-type {\n",
       "        vertical-align: middle;\n",
       "    }\n",
       "\n",
       "    .dataframe tbody tr th {\n",
       "        vertical-align: top;\n",
       "    }\n",
       "\n",
       "    .dataframe thead th {\n",
       "        text-align: right;\n",
       "    }\n",
       "</style>\n",
       "<table border=\"1\" class=\"dataframe\">\n",
       "  <thead>\n",
       "    <tr style=\"text-align: right;\">\n",
       "      <th></th>\n",
       "      <th>CIF</th>\n",
       "      <th>EFFECTIVE_DATE</th>\n",
       "      <th>TRANSACTION_AMOUNT</th>\n",
       "      <th>TRANSACTION_DECRIPTION</th>\n",
       "      <th>Report Ref</th>\n",
       "      <th>Client ID</th>\n",
       "      <th>Filing Date</th>\n",
       "      <th>Tran Date</th>\n",
       "      <th>Tran Amt</th>\n",
       "    </tr>\n",
       "  </thead>\n",
       "  <tbody>\n",
       "    <tr>\n",
       "      <th>0</th>\n",
       "      <td>3083202</td>\n",
       "      <td>2019-11-25</td>\n",
       "      <td>7312.68</td>\n",
       "      <td>International Wire</td>\n",
       "      <td>NaN</td>\n",
       "      <td>NaN</td>\n",
       "      <td>NaT</td>\n",
       "      <td>NaT</td>\n",
       "      <td>NaN</td>\n",
       "    </tr>\n",
       "    <tr>\n",
       "      <th>1</th>\n",
       "      <td>3083202</td>\n",
       "      <td>2019-11-25</td>\n",
       "      <td>7419.58</td>\n",
       "      <td>International Wire</td>\n",
       "      <td>NaN</td>\n",
       "      <td>NaN</td>\n",
       "      <td>NaT</td>\n",
       "      <td>NaT</td>\n",
       "      <td>NaN</td>\n",
       "    </tr>\n",
       "    <tr>\n",
       "      <th>2</th>\n",
       "      <td>3205784</td>\n",
       "      <td>2020-04-08</td>\n",
       "      <td>5413.21</td>\n",
       "      <td>International Wire</td>\n",
       "      <td>NaN</td>\n",
       "      <td>NaN</td>\n",
       "      <td>NaT</td>\n",
       "      <td>NaT</td>\n",
       "      <td>NaN</td>\n",
       "    </tr>\n",
       "    <tr>\n",
       "      <th>3</th>\n",
       "      <td>3205784</td>\n",
       "      <td>2020-04-08</td>\n",
       "      <td>5400.54</td>\n",
       "      <td>International Wire</td>\n",
       "      <td>NaN</td>\n",
       "      <td>NaN</td>\n",
       "      <td>NaT</td>\n",
       "      <td>NaT</td>\n",
       "      <td>NaN</td>\n",
       "    </tr>\n",
       "    <tr>\n",
       "      <th>7</th>\n",
       "      <td>2634428</td>\n",
       "      <td>2020-04-24</td>\n",
       "      <td>6858.17</td>\n",
       "      <td>International Wire</td>\n",
       "      <td>NaN</td>\n",
       "      <td>NaN</td>\n",
       "      <td>NaT</td>\n",
       "      <td>NaT</td>\n",
       "      <td>NaN</td>\n",
       "    </tr>\n",
       "    <tr>\n",
       "      <th>8</th>\n",
       "      <td>2634428</td>\n",
       "      <td>2020-04-24</td>\n",
       "      <td>7152.76</td>\n",
       "      <td>International Wire</td>\n",
       "      <td>NaN</td>\n",
       "      <td>NaN</td>\n",
       "      <td>NaT</td>\n",
       "      <td>NaT</td>\n",
       "      <td>NaN</td>\n",
       "    </tr>\n",
       "    <tr>\n",
       "      <th>9</th>\n",
       "      <td>3112248</td>\n",
       "      <td>2020-08-07</td>\n",
       "      <td>6532.97</td>\n",
       "      <td>US International Wire</td>\n",
       "      <td>NaN</td>\n",
       "      <td>NaN</td>\n",
       "      <td>NaT</td>\n",
       "      <td>NaT</td>\n",
       "      <td>NaN</td>\n",
       "    </tr>\n",
       "    <tr>\n",
       "      <th>10</th>\n",
       "      <td>3112248</td>\n",
       "      <td>2020-08-07</td>\n",
       "      <td>6532.97</td>\n",
       "      <td>International Wire</td>\n",
       "      <td>NaN</td>\n",
       "      <td>NaN</td>\n",
       "      <td>NaT</td>\n",
       "      <td>NaT</td>\n",
       "      <td>NaN</td>\n",
       "    </tr>\n",
       "    <tr>\n",
       "      <th>13</th>\n",
       "      <td>3292029</td>\n",
       "      <td>2020-09-29</td>\n",
       "      <td>9149.76</td>\n",
       "      <td>International Wire</td>\n",
       "      <td>NaN</td>\n",
       "      <td>NaN</td>\n",
       "      <td>NaT</td>\n",
       "      <td>NaT</td>\n",
       "      <td>NaN</td>\n",
       "    </tr>\n",
       "    <tr>\n",
       "      <th>14</th>\n",
       "      <td>3292029</td>\n",
       "      <td>2020-09-29</td>\n",
       "      <td>3977.09</td>\n",
       "      <td>International Wire</td>\n",
       "      <td>NaN</td>\n",
       "      <td>NaN</td>\n",
       "      <td>NaT</td>\n",
       "      <td>NaT</td>\n",
       "      <td>NaN</td>\n",
       "    </tr>\n",
       "  </tbody>\n",
       "</table>\n",
       "</div>"
      ],
      "text/plain": [
       "        CIF EFFECTIVE_DATE  TRANSACTION_AMOUNT TRANSACTION_DECRIPTION  \\\n",
       "0   3083202     2019-11-25             7312.68     International Wire   \n",
       "1   3083202     2019-11-25             7419.58     International Wire   \n",
       "2   3205784     2020-04-08             5413.21     International Wire   \n",
       "3   3205784     2020-04-08             5400.54     International Wire   \n",
       "7   2634428     2020-04-24             6858.17     International Wire   \n",
       "8   2634428     2020-04-24             7152.76     International Wire   \n",
       "9   3112248     2020-08-07             6532.97  US International Wire   \n",
       "10  3112248     2020-08-07             6532.97     International Wire   \n",
       "13  3292029     2020-09-29             9149.76     International Wire   \n",
       "14  3292029     2020-09-29             3977.09     International Wire   \n",
       "\n",
       "   Report Ref  Client ID Filing Date Tran Date  Tran Amt  \n",
       "0         NaN        NaN         NaT       NaT       NaN  \n",
       "1         NaN        NaN         NaT       NaT       NaN  \n",
       "2         NaN        NaN         NaT       NaT       NaN  \n",
       "3         NaN        NaN         NaT       NaT       NaN  \n",
       "7         NaN        NaN         NaT       NaT       NaN  \n",
       "8         NaN        NaN         NaT       NaT       NaN  \n",
       "9         NaN        NaN         NaT       NaT       NaN  \n",
       "10        NaN        NaN         NaT       NaT       NaN  \n",
       "13        NaN        NaN         NaT       NaT       NaN  \n",
       "14        NaN        NaN         NaT       NaT       NaN  "
      ]
     },
     "execution_count": 389,
     "metadata": {},
     "output_type": "execute_result"
    }
   ],
   "source": [
    "# the number of NaN will be the number of transactions that were not reported timely and accurately \n",
    "mult_swift_not_reported = mult_swift_reported[mult_swift_reported['Report Ref'].isna()]\n",
    "mult_swift_not_reported.head(15)\n",
    "# 10 out of 15 transactions were not reported timely or accurately\n",
    "\n",
    "# to do a spot check of transactions with a business unit "
   ]
  },
  {
   "cell_type": "code",
   "execution_count": 390,
   "metadata": {},
   "outputs": [],
   "source": [
    "# now we can save the output into a scv file for further spotcheck/ present to business unit\n",
    "#mult_swift_not_reported.to_csv('mult_swift_not_reported.csv', index=False)"
   ]
  }
 ],
 "metadata": {
  "kernelspec": {
   "display_name": "Python 3.11.3 64-bit",
   "language": "python",
   "name": "python3"
  },
  "language_info": {
   "codemirror_mode": {
    "name": "ipython",
    "version": 3
   },
   "file_extension": ".py",
   "mimetype": "text/x-python",
   "name": "python",
   "nbconvert_exporter": "python",
   "pygments_lexer": "ipython3",
   "version": "3.11.3"
  },
  "orig_nbformat": 4,
  "vscode": {
   "interpreter": {
    "hash": "aee8b7b246df8f9039afb4144a1f6fd8d2ca17a180786b69acc140d282b71a49"
   }
  }
 },
 "nbformat": 4,
 "nbformat_minor": 2
}
